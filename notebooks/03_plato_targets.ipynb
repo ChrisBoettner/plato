{
 "cells": [
  {
   "cell_type": "code",
   "execution_count": 38,
   "metadata": {},
   "outputs": [],
   "source": [
    "import astropy.units as u\n",
    "import matplotlib.pyplot as plt\n",
    "import numpy as np\n",
    "import polars as pl\n",
    "from astropy.coordinates import SkyCoord\n",
    "\n",
    "from plato.fov import find_targets"
   ]
  },
  {
   "cell_type": "code",
   "execution_count": 39,
   "metadata": {},
   "outputs": [
    {
     "name": "stderr",
     "output_type": "stream",
     "text": [
      "Targets:  87%|████████▋ | 2012858/2305447 [1:02:47<14:31, 335.66it/s]"
     ]
    }
   ],
   "source": [
    "# data = pl.read_csv(\"../data/processed/plato_targets_processed.csv\")\n",
    "\n",
    "# # add n_cameras column for LOPS2 field\n",
    "# data_LOPS2 = find_targets(\n",
    "#     data,\n",
    "#     platformCoord=SkyCoord(\"06:21:14.5 -47:53:13\", unit=(u.hourangle, u.deg)),\n",
    "#     focalPlaneAngle=np.deg2rad(15),\n",
    "# )\n",
    "# print(f\"Number of targets found: {(data[\"n_cameras\"] > 0).sum()}\")\n",
    "# data.filter(data[\"n_cameras\"] > 0).write_csv(\"../data/processed/LOPS2.csv\")"
   ]
  },
  {
   "cell_type": "code",
   "execution_count": null,
   "metadata": {},
   "outputs": [],
   "source": [
    "data.filter(data[\"n_cameras\"] > 0).write_csv(\"../data/processed/LOPS2.csv\")"
   ]
  },
  {
   "cell_type": "code",
   "execution_count": null,
   "metadata": {},
   "outputs": [],
   "source": [
    "data = pl.read_csv(\"../data/processed/LOPS2.csv\")"
   ]
  },
  {
   "cell_type": "code",
   "execution_count": null,
   "metadata": {},
   "outputs": [],
   "source": [
    "targets = (\n",
    "    data.filter(data[\"n_cameras\"] > 0)\n",
    "    .select([\"GLON\", \"GLAT\", \"n_cameras\", \"Population\"])\n",
    "    .to_pandas()\n",
    ")\n",
    "target_coords = SkyCoord(\n",
    "    l=targets[\"GLON\"], b=targets[\"GLAT\"], unit=\"deg\", frame=\"galactic\"\n",
    ")"
   ]
  },
  {
   "cell_type": "code",
   "execution_count": null,
   "metadata": {},
   "outputs": [],
   "source": [
    "fig = plt.figure(figsize=(10, 5))\n",
    "fig.suptitle(\"Plato LOPS2 Field\")\n",
    "ax = fig.add_subplot(111, projection=\"aitoff\")\n",
    "sc = ax.scatter(\n",
    "    target_coords.l.wrap_at(\"180d\").rad,\n",
    "    target_coords.b.rad,\n",
    "    c=targets[\"n_cameras\"],\n",
    "    cmap=\"viridis\",\n",
    "    s=0.01,\n",
    ")\n",
    "ax.grid()\n",
    "ax.set_xlabel(\"GLON\")\n",
    "ax.set_ylabel(\"GLAT\")\n",
    "cbar = fig.colorbar(sc)"
   ]
  },
  {
   "cell_type": "code",
   "execution_count": null,
   "metadata": {},
   "outputs": [],
   "source": [
    "for i, population in enumerate([\"Halo\", \"Thick Disk\", \"Thin Disk\"]):\n",
    "    coords = target_coords[targets[\"Population\"] == population]\n",
    "\n",
    "    fig = plt.figure(figsize=(10, 5))\n",
    "    fig.suptitle(f\"{population} targets\")\n",
    "    ax = fig.add_subplot(111, projection=\"aitoff\")\n",
    "    ax.scatter(\n",
    "        coords.l.wrap_at(\"180d\").rad,\n",
    "        coords.b.rad,\n",
    "        color=f\"C{i}\",\n",
    "        s=0.01,\n",
    "    )\n",
    "    ax.grid()\n",
    "    ax.set_xlabel(\"GLON\")\n",
    "    ax.set_ylabel(\"GLAT\")"
   ]
  }
 ],
 "metadata": {
  "kernelspec": {
   "display_name": "base",
   "language": "python",
   "name": "python3"
  },
  "language_info": {
   "codemirror_mode": {
    "name": "ipython",
    "version": 3
   },
   "file_extension": ".py",
   "mimetype": "text/x-python",
   "name": "python",
   "nbconvert_exporter": "python",
   "pygments_lexer": "ipython3",
   "version": "3.12.2"
  }
 },
 "nbformat": 4,
 "nbformat_minor": 2
}
