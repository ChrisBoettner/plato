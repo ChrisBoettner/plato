{
 "cells": [
  {
   "cell_type": "code",
   "execution_count": 75,
   "metadata": {
    "metadata": {}
   },
   "outputs": [],
   "source": [
    "import pandas as pd\n",
    "from astropy.table import Table"
   ]
  },
  {
   "cell_type": "code",
   "execution_count": 76,
   "metadata": {
    "metadata": {}
   },
   "outputs": [],
   "source": [
    "field = \"LOPS2\""
   ]
  },
  {
   "cell_type": "code",
   "execution_count": 77,
   "metadata": {
    "metadata": {}
   },
   "outputs": [],
   "source": [
    "# process targets\n",
    "targets = pd.read_csv(f\"../data/raw/plato_targets_{field}.csv\")\n",
    "targets = targets[[\"source_id\", \"flag\", f\"num_CCDs_{field}\"]]\n",
    "\n",
    "targets.rename(\n",
    "    columns={\n",
    "        \"source_id\": \"sourceId\",\n",
    "        \"flag\": \"Population\",\n",
    "    },\n",
    "    inplace=True,\n",
    ")\n",
    "targets[\"Population\"] = targets[\"Population\"].map(\n",
    "    {\n",
    "        0: \"Halo\",\n",
    "        1: \"Thick Disk\",\n",
    "        2: \"Thin Disk\",\n",
    "    }\n",
    ")"
   ]
  },
  {
   "cell_type": "code",
   "execution_count": 78,
   "metadata": {
    "metadata": {}
   },
   "outputs": [],
   "source": [
    "# process asPIC\n",
    "\n",
    "asPIC = Table.read(f\"../data/external/asPIC_1.1.fits\")\n",
    "asPIC = asPIC[\n",
    "    [\n",
    "        \"sourceId\",\n",
    "        \"GLON\",\n",
    "        \"GLAT\",\n",
    "        \"gaiaV\",\n",
    "        \"egaiaV\",\n",
    "        \"Gmag\",\n",
    "        \"eGmag\",\n",
    "        \"Radius\",\n",
    "        \"eRadius\",\n",
    "        \"Mass\",\n",
    "        \"eMass\",\n",
    "        \"Teff\",\n",
    "        \"eTeff\",\n",
    "    ]\n",
    "]\n",
    "for col in asPIC.colnames:\n",
    "    asPIC[col] = asPIC[col][:, 0]\n",
    "asPIC = asPIC.to_pandas()"
   ]
  },
  {
   "cell_type": "code",
   "execution_count": 79,
   "metadata": {
    "metadata": {}
   },
   "outputs": [],
   "source": [
    "# match asPIC and targets on sourceId\n",
    "data = pd.merge(targets, asPIC, on=\"sourceId\", how=\"inner\")"
   ]
  },
  {
   "cell_type": "code",
   "execution_count": 80,
   "metadata": {
    "metadata": {}
   },
   "outputs": [],
   "source": [
    "# save\n",
    "data.rename(columns={\"sourceId\": \"gaia_sourceId\"}, inplace=True)\n",
    "data.to_csv(f\"../data/processed/plato_targets_{field}_processed.csv\", index=False)"
   ]
  }
 ],
 "metadata": {
  "kernelspec": {
   "display_name": "plato",
   "language": "python",
   "name": "python3"
  },
  "language_info": {
   "codemirror_mode": {
    "name": "ipython",
    "version": 3
   },
   "file_extension": ".py",
   "mimetype": "text/x-python",
   "name": "python",
   "nbconvert_exporter": "python",
   "pygments_lexer": "ipython3",
   "version": "3.12.2"
  }
 },
 "nbformat": 4,
 "nbformat_minor": 2
}
