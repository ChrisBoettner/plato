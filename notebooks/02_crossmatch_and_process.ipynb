{
 "cells": [
  {
   "cell_type": "code",
   "execution_count": 9,
   "metadata": {
    "metadata": {}
   },
   "outputs": [
    {
     "name": "stdout",
     "output_type": "stream",
     "text": [
      "The autoreload extension is already loaded. To reload it, use:\n",
      "  %reload_ext autoreload\n"
     ]
    }
   ],
   "source": [
    "%load_ext autoreload\n",
    "%autoreload 2"
   ]
  },
  {
   "cell_type": "code",
   "execution_count": 10,
   "metadata": {},
   "outputs": [],
   "source": [
    "import numpy as np\n",
    "import pandas as pd\n",
    "from astropy.table import Table\n",
    "\n",
    "from plato.classification import quality_cuts, classify_stars"
   ]
  },
  {
   "cell_type": "code",
   "execution_count": 11,
   "metadata": {
    "metadata": {}
   },
   "outputs": [],
   "source": [
    "# process targets\n",
    "targets = Table.read(\"../data/raw/plato_targets.fits\").to_pandas()\n",
    "\n",
    "# make quality cuts\n",
    "targets = quality_cuts(targets, max_error=0.2)\n",
    "\n",
    "# add classification\n",
    "targets = classify_stars(targets)\n",
    "\n",
    "# rename columns\n",
    "targets.rename(\n",
    "    columns={\n",
    "        \"SOURCE_ID\": \"gaiaID\",\n",
    "    },\n",
    "    inplace=True,\n",
    ")"
   ]
  },
  {
   "cell_type": "code",
   "execution_count": 12,
   "metadata": {},
   "outputs": [],
   "source": [
    "# add metallicity and alpha from medium-res spectroscopy, photometry, or xgboost\n",
    "targets[\"[Fe/H]\"] = np.nan\n",
    "targets[\"[Fe/H]_lower\"] = np.nan\n",
    "targets[\"[Fe/H]_upper\"] = np.nan\n",
    "targets[\"[Fe/H]_source\"] = \"\"\n",
    "\n",
    "# add [Fe/H] metallcity in following priority: gspspec, gspphot, xgboost (use next possible source if previous is NaN)\n",
    "sources = [\"mh_gspspec\", \"mh_gspphot\"]\n",
    "for source in sources:\n",
    "    mask = targets[f\"{source}\"].notnull() & targets[\"[Fe/H]\"].isnull()\n",
    "    targets.loc[mask, \"[Fe/H]\"] = targets[f\"{source}\"]\n",
    "    targets.loc[mask, \"[Fe/H]_lower\"] = targets[f\"{source}_lower\"]\n",
    "    targets.loc[mask, \"[Fe/H]_upper\"] = targets[f\"{source}_upper\"]\n",
    "    targets.loc[mask, \"[Fe/H]_source\"] = f\"{source}\"\n",
    "\n",
    "# rename alphafe_gspspec column (and errors) to [alpha/Fe]\n",
    "targets.rename(\n",
    "    columns={\n",
    "        f\"alphafe_gspspec{suffix}\": f\"[alpha/Fe]{suffix}\"\n",
    "        for suffix in [\"\", \"_lower\", \"_upper\"]\n",
    "    },\n",
    "    inplace=True,\n",
    ")\n",
    "\n",
    "# drop unnecessary columns and their errors\n",
    "targets.drop(\n",
    "    columns=[\n",
    "        f\"{source}{suffix}\" for source in sources for suffix in [\"\", \"_lower\", \"_upper\"]\n",
    "    ],\n",
    "    inplace=True,\n",
    ")"
   ]
  },
  {
   "cell_type": "code",
   "execution_count": null,
   "metadata": {},
   "outputs": [
    {
     "name": "stdout",
     "output_type": "stream",
     "text": [
      "/home/chris/mambaforge/envs/plato/lib/python3.12/site-packages/astropy/io/fits/connect.py:193: AstropyUserWarning: hdu= was not specified but multiple tables are present, reading in first available table (hdu=1)\n",
      "  warnings.warn(\n",
      "\n",
      "/home/chris/mambaforge/envs/plato/lib/python3.12/site-packages/astropy/units/core.py:2123: UnitsWarning: 'log(cm.s**-2)' did not parse as fits unit: 'log' is not a recognized function If this is meant to be a custom unit, define it with 'u.def_unit'. To have it recognized inside a file reader or other code, enable it with 'u.add_enabled_units'. For details, see https://docs.astropy.org/en/latest/units/combining_and_defining.html\n",
      "  warnings.warn(msg, UnitsWarning)\n",
      "\n"
     ]
    }
   ],
   "source": [
    "# add metallicities and alpha from high-res spectroscopic surveys\n",
    "\n",
    "## Apogee\n",
    "apogee = Table.read(\"../data/external/apogee.fits\")\n",
    "# get relevant columns\n",
    "apogee = apogee[[\"GAIAEDR3_SOURCE_ID\", \"FE_H\", \"ALPHA_M\"]]\n",
    "apogee_df = apogee.to_pandas()\n",
    "apogee_df = apogee_df.rename(\n",
    "    columns={\n",
    "        \"GAIAEDR3_SOURCE_ID\": \"gaiaID\",\n",
    "        \"FE_H\": \"[Fe/H]_apogee\",\n",
    "        \"ALPHA_M\": \"[alpha/M]_apogee\",\n",
    "    }\n",
    ")\n",
    "# merge into targets\n",
    "targets = pd.merge(\n",
    "    targets,\n",
    "    apogee_df,\n",
    "    on=\"gaiaID\",\n",
    "    how=\"left\",\n",
    ")\n",
    "\n",
    "## GALAH\n",
    "galah = Table.read(\"../data/external/galah.fits\")\n",
    "# quality cuts\n",
    "galah = galah[galah[\"flag_fe_h\"] == 0]\n",
    "galah = galah[galah[\"flag_alpha_fe\"] == 0]\n",
    "# get relevant columns\n",
    "galah = galah[[\"dr3_source_id\", \"fe_h\", \"alpha_fe\"]]\n",
    "galah_df = galah.to_pandas()\n",
    "galah_df = galah_df.rename(\n",
    "    columns={\n",
    "        \"dr3_source_id\": \"gaiaID\",\n",
    "        \"fe_h\": \"[Fe/H]_galah\",\n",
    "        \"alpha_fe\": \"[alpha/Fe]_galah\",\n",
    "    }\n",
    ")\n",
    "# merge into targets\n",
    "targets = pd.merge(\n",
    "    targets,\n",
    "    galah_df,\n",
    "    on=\"gaiaID\",\n",
    "    how=\"left\",\n",
    ")"
   ]
  },
  {
   "cell_type": "code",
   "execution_count": null,
   "metadata": {
    "metadata": {}
   },
   "outputs": [],
   "source": [
    "# process asPIC\n",
    "\n",
    "asPIC = Table.read(f\"../data/external/asPIC_1.1.fits\")\n",
    "asPIC = asPIC[\n",
    "    [\n",
    "        \"sourceId\",\n",
    "        \"GLON\",\n",
    "        \"GLAT\",\n",
    "        \"gaiaV\",\n",
    "        \"egaiaV\",\n",
    "        \"Gmag\",\n",
    "        \"eGmag\",\n",
    "        \"Radius\",\n",
    "        \"eRadius\",\n",
    "        \"Mass\",\n",
    "        \"eMass\",\n",
    "        \"Teff\",\n",
    "        \"eTeff\",\n",
    "        \"sourceFlag\",\n",
    "    ]\n",
    "]\n",
    "for col in asPIC.colnames:\n",
    "    asPIC[col] = asPIC[col][:, 0]\n",
    "asPIC = asPIC.to_pandas()\n",
    "\n",
    "# rename source flag\n",
    "asPIC.rename(\n",
    "    columns={\n",
    "        \"sourceId\": \"gaiaID\",\n",
    "        \"sourceFlag\": \"Stellar Type\",\n",
    "    },\n",
    "    inplace=True,\n",
    ")\n",
    "asPIC[\"Stellar Type\"] = asPIC[\"Stellar Type\"].map(\n",
    "    {\n",
    "        1: \"FGK\",  # FGK\n",
    "        5: \"FGK\",  # FGK and known planet host\n",
    "        2: \"M\",  # M\n",
    "        6: \"M\",  # M and known planet host\n",
    "    }\n",
    ")"
   ]
  },
  {
   "cell_type": "code",
   "execution_count": null,
   "metadata": {
    "metadata": {}
   },
   "outputs": [],
   "source": [
    "# match asPIC and targets on sourceId\n",
    "data = pd.merge(targets, asPIC, on=\"sourceId\", how=\"inner\")"
   ]
  },
  {
   "cell_type": "code",
   "execution_count": null,
   "metadata": {
    "metadata": {}
   },
   "outputs": [],
   "source": [
    "# save\n",
    "data.rename(columns={\"sourceId\": \"gaiaID\"}, inplace=True)\n",
    "data.to_csv(f\"../data/processed/plato_targets_{field}_processed.csv\", index=False)"
   ]
  },
  {
   "cell_type": "markdown",
   "metadata": {},
   "source": [
    "### Stars missing from Aksharas catalogue that is are asPIC (due to parallax quality cut)"
   ]
  },
  {
   "cell_type": "code",
   "execution_count": null,
   "metadata": {},
   "outputs": [],
   "source": [
    "import polars as pl\n",
    "\n",
    "all_target_ids = pl.read_csv(\n",
    "    f\"../data/raw/plato_targets.csv\", columns=[\"source_id\"]\n",
    ").to_pandas()"
   ]
  },
  {
   "cell_type": "code",
   "execution_count": null,
   "metadata": {},
   "outputs": [
    {
     "name": "stdout",
     "output_type": "stream",
     "text": [
      "Percentage of missing stars: 6.81%\n"
     ]
    }
   ],
   "source": [
    "# get asPIC subset that contains values not in all_target_ids\n",
    "missing_stars = asPIC[~asPIC[\"sourceId\"].isin(all_target_ids[\"source_id\"])]\n",
    "print(f\"Percentage of missing stars: {len(missing_stars)/len(asPIC)*100:.2f}%\")"
   ]
  }
 ],
 "metadata": {
  "kernelspec": {
   "display_name": "plato",
   "language": "python",
   "name": "python3"
  },
  "language_info": {
   "codemirror_mode": {
    "name": "ipython",
    "version": 3
   },
   "file_extension": ".py",
   "mimetype": "text/x-python",
   "name": "python",
   "nbconvert_exporter": "python",
   "pygments_lexer": "ipython3",
   "version": "3.12.2"
  }
 },
 "nbformat": 4,
 "nbformat_minor": 2
}
