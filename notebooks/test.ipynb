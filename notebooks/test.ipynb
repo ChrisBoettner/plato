{
 "cells": [
  {
   "cell_type": "code",
   "execution_count": 1,
   "metadata": {},
   "outputs": [],
   "source": [
    "%load_ext autoreload\n",
    "%autoreload 2"
   ]
  },
  {
   "cell_type": "code",
   "execution_count": 2,
   "metadata": {},
   "outputs": [],
   "source": [
    "import numpy as np\n",
    "import pandas as pd\n",
    "from astropy import units as u\n",
    "from astropy.coordinates import SkyCoord\n",
    "\n",
    "from plato.instrument.platopoint import platopoint"
   ]
  },
  {
   "cell_type": "code",
   "execution_count": 16,
   "metadata": {},
   "outputs": [
    {
     "data": {
      "text/plain": [
       "({1: '2', 2: None, 3: None, 4: None},\n",
       " {1: 4376.548850450918, 2: None, 3: None, 4: None},\n",
       " {1: 3061.0460012179396, 2: None, 3: None, 4: None})"
      ]
     },
     "execution_count": 16,
     "metadata": {},
     "output_type": "execute_result"
    }
   ],
   "source": [
    "source = SkyCoord(\n",
    "    l=267.949029,\n",
    "    b=0.0,\n",
    "    frame=\"galactic\",\n",
    "    unit=(u.deg, u.deg),\n",
    ")\n",
    "platopoint(\n",
    "    targetCoord=source.icrs,\n",
    "    rotationAngle=np.deg2rad(13.943091582693294),\n",
    "    focalLength=250.30913130717633,\n",
    ")"
   ]
  },
  {
   "cell_type": "code",
   "execution_count": 52,
   "metadata": {},
   "outputs": [
    {
     "data": {
      "text/plain": [
       "4746.759800993743"
      ]
     },
     "execution_count": 52,
     "metadata": {},
     "output_type": "execute_result"
    }
   ],
   "source": [
    "np.sqrt((1480.41501219427) ** 2 + (4510) ** 2)"
   ]
  },
  {
   "cell_type": "code",
   "execution_count": 246,
   "metadata": {},
   "outputs": [
    {
     "data": {
      "text/plain": [
       "426.702848896718"
      ]
     },
     "execution_count": 246,
     "metadata": {},
     "output_type": "execute_result"
    }
   ],
   "source": [
    "4510 - 4083.297151103282"
   ]
  },
  {
   "cell_type": "code",
   "execution_count": null,
   "metadata": {},
   "outputs": [],
   "source": [
    "426.702848896718"
   ]
  },
  {
   "cell_type": "code",
   "execution_count": 20,
   "metadata": {},
   "outputs": [
    {
     "name": "stdout",
     "output_type": "stream",
     "text": [
      "-2848.632852613332 8638.194932500546\n",
      "3983.7504880560996 7358.632852613332\n",
      "2704.1884081688872 526.2495119439\n",
      "-4128.194932500545 1805.8115918311123\n"
     ]
    },
    {
     "data": {
      "text/plain": [
       "{1: '3'}"
      ]
     },
     "execution_count": 20,
     "metadata": {},
     "output_type": "execute_result"
    }
   ],
   "source": [
    "source = SkyCoord(l=255.93750771, b=0, frame=\"galactic\", unit=(u.deg, u.deg))\n",
    "platopoint(targetCoord=source.icrs, nCamera=1)[0]"
   ]
  },
  {
   "cell_type": "code",
   "execution_count": 29,
   "metadata": {},
   "outputs": [
    {
     "name": "stdout",
     "output_type": "stream",
     "text": [
      "-57.645449589455204 8759.284881042662\n",
      "4104.840436598217 4567.645449589456\n",
      "-86.79899485498974 405.1595634017839\n",
      "-4249.28488104266 4596.798994854989\n"
     ]
    },
    {
     "data": {
      "text/plain": [
       "{2: None}"
      ]
     },
     "execution_count": 29,
     "metadata": {},
     "output_type": "execute_result"
    }
   ],
   "source": [
    "source = SkyCoord(l=255.93750771, b=1, frame=\"galactic\", unit=(u.deg, u.deg))\n",
    "platopoint(targetCoord=source.icrs, nCamera=2)[0]"
   ]
  },
  {
   "cell_type": "code",
   "execution_count": 204,
   "metadata": {},
   "outputs": [
    {
     "name": "stdout",
     "output_type": "stream",
     "text": [
      "({1: '2', 2: None, 3: None, 4: None}, {1: 4509.716962266847, 2: None, 3: None, 4: None}, {1: 3638.3189093473243, 2: None, 3: None, 4: None})\n",
      "({1: None, 2: '3', 3: None, 4: None}, {1: None, 2: 871.6793497580342, 3: None, 4: None}, {1: None, 2: 0.2823011524108034, 3: None, 4: None})\n"
     ]
    }
   ],
   "source": [
    "b = 2.14\n",
    "rotationAngle = np.deg2rad(13.9431)\n",
    "source = SkyCoord(l=255.93750771 + 10, b=b, frame=\"galactic\", unit=(u.deg, u.deg))\n",
    "print(platopoint(targetCoord=source.icrs, rotationAngle=rotationAngle))\n",
    "source = SkyCoord(l=255.93750771 - 10, b=b, frame=\"galactic\", unit=(u.deg, u.deg))\n",
    "print(platopoint(targetCoord=source.icrs, rotationAngle=rotationAngle))"
   ]
  },
  {
   "cell_type": "code",
   "execution_count": 198,
   "metadata": {},
   "outputs": [
    {
     "data": {
      "text/plain": [
       "4509.716962266847"
      ]
     },
     "execution_count": 198,
     "metadata": {},
     "output_type": "execute_result"
    }
   ],
   "source": [
    "platopoint(targetCoord=source.icrs, rotationAngle=rotationAngle)[1][1]"
   ]
  },
  {
   "cell_type": "code",
   "execution_count": 193,
   "metadata": {},
   "outputs": [
    {
     "data": {
      "text/plain": [
       "0.2823011524108034"
      ]
     },
     "execution_count": 193,
     "metadata": {},
     "output_type": "execute_result"
    }
   ],
   "source": [
    "platopoint(targetCoord=source.icrs, rotationAngle=rotationAngle)[2][2]"
   ]
  },
  {
   "cell_type": "code",
   "execution_count": 228,
   "metadata": {},
   "outputs": [],
   "source": [
    "b = 2\n",
    "\n",
    "\n",
    "def ang(r):\n",
    "    r = np.deg2rad(r)\n",
    "    source1 = SkyCoord(l=255.93750771 + 10, b=b, frame=\"galactic\", unit=(u.deg, u.deg))\n",
    "    source2 = SkyCoord(l=255.93750771 - 10, b=b, frame=\"galactic\", unit=(u.deg, u.deg))\n",
    "    f1 = platopoint(targetCoord=source1.icrs, rotationAngle=r)[1][1]\n",
    "    f2 = platopoint(targetCoord=source2.icrs, rotationAngle=r)[2][2]\n",
    "    print(f1, f2)\n",
    "    if f1 is None or f2 is None:\n",
    "        return 1e6\n",
    "    return 4510 - np.abs(f1 + f2)"
   ]
  },
  {
   "cell_type": "code",
   "execution_count": 229,
   "metadata": {},
   "outputs": [
    {
     "name": "stdout",
     "output_type": "stream",
     "text": [
      "None 77.1104630560752\n"
     ]
    },
    {
     "data": {
      "text/plain": [
       "1000000.0"
      ]
     },
     "execution_count": 229,
     "metadata": {},
     "output_type": "execute_result"
    }
   ],
   "source": [
    "ang(13)"
   ]
  },
  {
   "cell_type": "code",
   "execution_count": 230,
   "metadata": {},
   "outputs": [
    {
     "name": "stdout",
     "output_type": "stream",
     "text": [
      "4475.377762438801 35.76576985874011\n"
     ]
    },
    {
     "data": {
      "text/plain": [
       "-1.1435322975412419"
      ]
     },
     "execution_count": 230,
     "metadata": {},
     "output_type": "execute_result"
    }
   ],
   "source": [
    "ang(13.93)"
   ]
  },
  {
   "cell_type": "code",
   "execution_count": 32,
   "metadata": {},
   "outputs": [
    {
     "ename": "NameError",
     "evalue": "name 'ang' is not defined",
     "output_type": "error",
     "traceback": [
      "\u001b[0;31m---------------------------------------------------------------------------\u001b[0m",
      "\u001b[0;31mNameError\u001b[0m                                 Traceback (most recent call last)",
      "Cell \u001b[0;32mIn[32], line 4\u001b[0m\n\u001b[1;32m      1\u001b[0m \u001b[38;5;66;03m# find root of ang, is somewhere around 13.9431\u001b[39;00m\n\u001b[1;32m      2\u001b[0m \u001b[38;5;28;01mfrom\u001b[39;00m \u001b[38;5;21;01mscipy\u001b[39;00m\u001b[38;5;21;01m.\u001b[39;00m\u001b[38;5;21;01moptimize\u001b[39;00m \u001b[38;5;28;01mimport\u001b[39;00m root_scalar\n\u001b[0;32m----> 4\u001b[0m root_scalar(\u001b[43mang\u001b[49m, bracket\u001b[38;5;241m=\u001b[39m[\u001b[38;5;241m13.9\u001b[39m, \u001b[38;5;241m14\u001b[39m], method\u001b[38;5;241m=\u001b[39m\u001b[38;5;124m\"\u001b[39m\u001b[38;5;124mbrentq\u001b[39m\u001b[38;5;124m\"\u001b[39m)\n",
      "\u001b[0;31mNameError\u001b[0m: name 'ang' is not defined"
     ]
    }
   ],
   "source": [
    "# find root of ang, is somewhere around 13.9431\n",
    "from scipy.optimize import root_scalar\n",
    "\n",
    "root_scalar(ang, bracket=[13.9, 14], method=\"brentq\")"
   ]
  },
  {
   "cell_type": "code",
   "execution_count": 218,
   "metadata": {},
   "outputs": [
    {
     "ename": "NameError",
     "evalue": "name 'f1' is not defined",
     "output_type": "error",
     "traceback": [
      "\u001b[0;31m---------------------------------------------------------------------------\u001b[0m",
      "\u001b[0;31mNameError\u001b[0m                                 Traceback (most recent call last)",
      "Cell \u001b[0;32mIn[218], line 1\u001b[0m\n\u001b[0;32m----> 1\u001b[0m \u001b[43mf1\u001b[49m \u001b[38;5;241m+\u001b[39m f2\n",
      "\u001b[0;31mNameError\u001b[0m: name 'f1' is not defined"
     ]
    }
   ],
   "source": [
    "f1 + f2"
   ]
  },
  {
   "cell_type": "code",
   "execution_count": 22,
   "metadata": {},
   "outputs": [],
   "source": [
    "from scipy.optimize import root_scalar\n",
    "\n",
    "\n",
    "def fl(f):\n",
    "    source = SkyCoord(\n",
    "        l=267.949029,\n",
    "        b=0.0,\n",
    "        frame=\"galactic\",\n",
    "        unit=(u.deg, u.deg),\n",
    "    )\n",
    "    y = platopoint(\n",
    "        targetCoord=source.icrs,\n",
    "        rotationAngle=np.deg2rad(13.943091582693294),\n",
    "        focalLength=f,\n",
    "    )[1]\n",
    "\n",
    "    if y is None:\n",
    "        o = -5\n",
    "        return -5\n",
    "    elif y[1] is None:\n",
    "        o = -5\n",
    "        return -5\n",
    "    else:\n",
    "        o = 4510 - y[1]\n",
    "    print(o)\n",
    "    return o"
   ]
  },
  {
   "cell_type": "code",
   "execution_count": null,
   "metadata": {},
   "outputs": [],
   "source": [
    "fl"
   ]
  },
  {
   "cell_type": "code",
   "execution_count": 27,
   "metadata": {},
   "outputs": [
    {
     "name": "stdout",
     "output_type": "stream",
     "text": [
      "494.4075213708088\n",
      "142.50421202125835\n",
      "57.5105309606397\n",
      "18.412864927589908\n",
      "10.725851336161213\n",
      "5.482906885128614\n",
      "4.204577919275835\n",
      "4.202368134498101\n",
      "4.201054218559875\n",
      "4.200397260588943\n",
      "4.2000687816043865\n",
      "4.199993802039899\n",
      "4.199949172076231\n",
      "4.199926857094397\n",
      "4.199921763505699\n",
      "4.19992037936845\n",
      "4.199919555460838\n",
      "4.199919367398252\n",
      "4.199919356747159\n",
      "4.199919355426573\n",
      "4.199919354638951\n",
      "4.199919354246958\n",
      "4.1999193540486885\n"
     ]
    },
    {
     "data": {
      "text/plain": [
       "      converged: True\n",
       "           flag: converged\n",
       " function_calls: 49\n",
       "     iterations: 48\n",
       "           root: 257.58142350248204\n",
       "         method: brentq"
      ]
     },
     "execution_count": 27,
     "metadata": {},
     "output_type": "execute_result"
    }
   ],
   "source": [
    "root_scalar(fl, bracket=[230, 270], method=\"brentq\")"
   ]
  },
  {
   "cell_type": "code",
   "execution_count": 3,
   "metadata": {},
   "outputs": [
    {
     "name": "stdout",
     "output_type": "stream",
     "text": [
      "Field Center: RA = 95.310 Dec = -47.887 deg.\n",
      "Rotation Angle: 13.943 deg.\n",
      "\n"
     ]
    },
    {
     "name": "stderr",
     "output_type": "stream",
     "text": [
      "Targets: 100%|██████████| 2283538/2283538 [31:59<00:00, 1189.94it/s]\n"
     ]
    }
   ],
   "source": [
    "import pandas as pd\n",
    "from plato.instrument import find_targets\n",
    "\n",
    "field = \"LOPS2\"\n",
    "data = pd.read_csv(f\"../data/processed/all_sky_targets.csv\", low_memory=False)\n",
    "\n",
    "# add n_cameras column for field\n",
    "data_2 = find_targets(data, field=field)"
   ]
  },
  {
   "cell_type": "code",
   "execution_count": 4,
   "metadata": {},
   "outputs": [],
   "source": [
    "data_2 = data_2[data_2[\"n_cameras\"] > 0]\n",
    "targets = data_2[[\"GLON\", \"GLAT\", \"n_cameras\", \"Population\"]].copy()  # type: ignore\n",
    "\n",
    "# wrap GLON at 180 degrees, convert to radians, and mirror on the y axis to comply with\n",
    "# conventional Galactic coordinate system, and the projection plotting in matplotlib\n",
    "targets[\"GLON\"] = -np.deg2rad((targets[\"GLON\"] + 180) % 360 - 180)\n",
    "targets[\"GLAT\"] = np.deg2rad(targets[\"GLAT\"])"
   ]
  },
  {
   "cell_type": "code",
   "execution_count": 5,
   "metadata": {},
   "outputs": [
    {
     "data": {
      "image/png": "[encoded data removed]",
      "text/plain": [
       "<Figure size 640x480 with 1 Axes>"
      ]
     },
     "metadata": {},
     "output_type": "display_data"
    }
   ],
   "source": [
    "import matplotlib.pyplot as plt\n",
    "import seaborn as sns\n",
    "from plato.visualisation.utilities import get_palette\n",
    "\n",
    "with sns.plotting_context(font_scale=1.5):\n",
    "    fig = plt.figure()\n",
    "    field_plot = fig.add_subplot(111, projection=\"aitoff\")\n",
    "\n",
    "    sns.scatterplot(\n",
    "        data=targets[targets[\"n_cameras\"] > 0],\n",
    "        x=\"GLON\",\n",
    "        y=\"GLAT\",\n",
    "        c=targets[targets[\"n_cameras\"] > 0][\"n_cameras\"],\n",
    "        cmap=get_palette(n_colors=4, as_cmap=True, reverse=True),\n",
    "        linewidth=0,\n",
    "        s=0.8,\n",
    "        ax=field_plot,\n",
    "        rasterized=True,\n",
    "        alpha=0.6,\n",
    "        zorder=-1,\n",
    "    )\n",
    "    field_plot.grid(True)"
   ]
  }
 ],
 "metadata": {
  "kernelspec": {
   "display_name": "plato",
   "language": "python",
   "name": "python3"
  },
  "language_info": {
   "codemirror_mode": {
    "name": "ipython",
    "version": 3
   },
   "file_extension": ".py",
   "mimetype": "text/x-python",
   "name": "python",
   "nbconvert_exporter": "python",
   "pygments_lexer": "ipython3",
   "version": "3.12.2"
  }
 },
 "nbformat": 4,
 "nbformat_minor": 2
}
