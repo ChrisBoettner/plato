{
 "cells": [
  {
   "cell_type": "code",
   "execution_count": 1,
   "metadata": {},
   "outputs": [],
   "source": [
    "import numpy as np\n",
    "import polars as pl\n",
    "import pandas as pd\n",
    "import matplotlib.pyplot as plt\n",
    "\n",
    "from astropy.coordinates import SkyCoord\n",
    "import astropy.units as u\n",
    "from galpy.orbit import Orbit"
   ]
  },
  {
   "cell_type": "code",
   "execution_count": 2,
   "metadata": {},
   "outputs": [],
   "source": [
    "data = pl.read_csv(\n",
    "    \"../data/raw/plato_targets_LOPS2.csv\",\n",
    "    columns=[\n",
    "        \"ra\",\n",
    "        \"dec\",\n",
    "        \"parallax\",\n",
    "        \"pmra\",\n",
    "        \"pmdec\",\n",
    "        \"radial_velocity\",\n",
    "    ],\n",
    ").to_pandas()"
   ]
  },
  {
   "cell_type": "code",
   "execution_count": 3,
   "metadata": {},
   "outputs": [],
   "source": [
    "coord = SkyCoord(\n",
    "    ra=data[\"ra\"].to_numpy() * u.degree,\n",
    "    dec=data[\"dec\"].to_numpy() * u.degree,\n",
    "    distance=(1 / data[\"parallax\"].to_numpy()) * u.pc,\n",
    "    pm_ra_cosdec=data[\"pmra\"].to_numpy() * u.mas / u.yr,\n",
    "    pm_dec=data[\"pmdec\"].to_numpy() * u.mas / u.yr,\n",
    "    radial_velocity=data[\"radial_velocity\"].to_numpy() * u.km / u.s,\n",
    ")"
   ]
  },
  {
   "cell_type": "code",
   "execution_count": 4,
   "metadata": {},
   "outputs": [],
   "source": [
    "o = Orbit(\n",
    "    vxvv=[\n",
    "        coord.ra,\n",
    "        coord.dec,\n",
    "        coord.distance,\n",
    "        coord.pm_ra_cosdec,\n",
    "        coord.pm_dec,\n",
    "        coord.radial_velocity,\n",
    "    ],\n",
    "    radec=True,\n",
    ")\n",
    "\n",
    "u, v, w = o.U(), o.V(), o.W()"
   ]
  },
  {
   "cell_type": "code",
   "execution_count": null,
   "metadata": {},
   "outputs": [],
   "source": []
  },
  {
   "cell_type": "code",
   "execution_count": 5,
   "metadata": {},
   "outputs": [],
   "source": [
    "comp = {\n",
    "    \"thin disk\": {\n",
    "        \"X\": 0.94,\n",
    "        \"sigma_U\": 35,\n",
    "        \"sigma_V\": 20,\n",
    "        \"sigma_W\": 16,\n",
    "        \"V_asym\": -15,\n",
    "    },\n",
    "    \"thick disk\": {\n",
    "        \"X\": 0.06,\n",
    "        \"sigma_U\": 67,\n",
    "        \"sigma_V\": 38,\n",
    "        \"sigma_W\": 35,\n",
    "        \"V_asym\": -46,\n",
    "    },\n",
    "    \"halo\": {\n",
    "        \"X\": 0.0015,\n",
    "        \"sigma_U\": 160,\n",
    "        \"sigma_V\": 90,\n",
    "        \"sigma_W\": 90,\n",
    "        \"V_asym\": -220,\n",
    "    },\n",
    "}"
   ]
  },
  {
   "cell_type": "code",
   "execution_count": 6,
   "metadata": {},
   "outputs": [],
   "source": [
    "from scipy.stats import norm\n",
    "\n",
    "\n",
    "def P(U, V, W, parameter):\n",
    "    for key in [\"sigma_U\", \"sigma_V\", \"sigma_W\", \"V_asym\"]:\n",
    "        if not key in parameter.keys():\n",
    "            raise ValueError(f\"Parameter dict must contain {key!r}.\")\n",
    "\n",
    "    U_prob = norm.pdf(U, loc=0, scale=parameter[\"sigma_U\"])\n",
    "    V_prob = norm.pdf(V, loc=parameter[\"V_asym\"], scale=parameter[\"sigma_V\"])\n",
    "    W_prob = norm.pdf(W, loc=0, scale=parameter[\"sigma_W\"])\n",
    "    return U_prob * V_prob * W_prob"
   ]
  },
  {
   "cell_type": "code",
   "execution_count": 7,
   "metadata": {},
   "outputs": [],
   "source": [
    "def relative_prob(U, V, W, comp_1, comp_2):\n",
    "    for parameter_dict in [comp_1, comp_2]:\n",
    "        for key in [\"X\", \"sigma_U\", \"sigma_V\", \"sigma_W\", \"V_asym\"]:\n",
    "            if not key in parameter_dict.keys():\n",
    "                raise ValueError(\n",
    "                    f\"Parameter dict {parameter_dict!r} must contain {key!r}.\"\n",
    "                )\n",
    "\n",
    "    prob_1 = P(U, V, W, comp_1)\n",
    "    prob_2 = P(U, V, W, comp_2)\n",
    "    return comp_1[\"X\"] * prob_1 / (comp_2[\"X\"] * prob_2)"
   ]
  },
  {
   "cell_type": "code",
   "execution_count": 8,
   "metadata": {},
   "outputs": [],
   "source": [
    "td_d = relative_prob(u, v, w, comp[\"thick disk\"], comp[\"thin disk\"])\n",
    "td_h = relative_prob(u, v, w, comp[\"thick disk\"], comp[\"halo\"])"
   ]
  },
  {
   "cell_type": "code",
   "execution_count": 11,
   "metadata": {},
   "outputs": [
    {
     "data": {
      "text/plain": [
       "211"
      ]
     },
     "execution_count": 11,
     "metadata": {},
     "output_type": "execute_result"
    }
   ],
   "source": [
    "(td_h < 0.1).sum()"
   ]
  },
  {
   "cell_type": "code",
   "execution_count": 16,
   "metadata": {},
   "outputs": [
    {
     "ename": "ImportError",
     "evalue": "cannot import name 'relative_probability' from 'plato.classify' (/home/chris/Documents/Projects/plato/plato/classify.py)",
     "output_type": "error",
     "traceback": [
      "\u001b[0;31m---------------------------------------------------------------------------\u001b[0m",
      "\u001b[0;31mImportError\u001b[0m                               Traceback (most recent call last)",
      "Cell \u001b[0;32mIn[16], line 1\u001b[0m\n\u001b[0;32m----> 1\u001b[0m \u001b[38;5;28;01mfrom\u001b[39;00m \u001b[38;5;21;01mplato\u001b[39;00m\u001b[38;5;21;01m.\u001b[39;00m\u001b[38;5;21;01mclassify\u001b[39;00m \u001b[38;5;28;01mimport\u001b[39;00m relative_probability\n",
      "\u001b[0;31mImportError\u001b[0m: cannot import name 'relative_probability' from 'plato.classify' (/home/chris/Documents/Projects/plato/plato/classify.py)"
     ]
    }
   ],
   "source": [
    "from plato.classify import relative_probability"
   ]
  },
  {
   "cell_type": "code",
   "execution_count": null,
   "metadata": {},
   "outputs": [],
   "source": []
  }
 ],
 "metadata": {
  "kernelspec": {
   "display_name": "plato",
   "language": "python",
   "name": "python3"
  },
  "language_info": {
   "codemirror_mode": {
    "name": "ipython",
    "version": 3
   },
   "file_extension": ".py",
   "mimetype": "text/x-python",
   "name": "python",
   "nbconvert_exporter": "python",
   "pygments_lexer": "ipython3",
   "version": "3.12.2"
  }
 },
 "nbformat": 4,
 "nbformat_minor": 2
}
