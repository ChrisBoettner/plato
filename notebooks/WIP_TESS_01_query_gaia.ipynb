{
 "cells": [
  {
   "cell_type": "code",
   "execution_count": 109,
   "metadata": {},
   "outputs": [],
   "source": [
    "import logging\n",
    "\n",
    "import numpy as np\n",
    "import pandas as pd\n",
    "from astropy.table import Table, join\n",
    "from astroquery.mast import Catalogs\n",
    "from plato.stars import gaia\n",
    "from plato.utils import get_abspath\n",
    "\n",
    "logging.getLogger(\"astroquery\").setLevel(logging.WARNING)"
   ]
  },
  {
   "cell_type": "code",
   "execution_count": 110,
   "metadata": {},
   "outputs": [],
   "source": [
    "# load Tess Input Catalog (TIC) ids for Planet Candidates from TESS Targets of Interest list\n",
    "tic_ids = Table.read(get_abspath() + \"data/external/TESS_TOI.csv\", comment=\"#\")[\n",
    "    \"tid\"\n",
    "].tolist()\n",
    "\n",
    "# get Gaia DR2 IDs from TIC using astroquery and match to TIC\n",
    "mast_catalog = Catalogs.query_criteria(\n",
    "    catalog=\"TIC\",\n",
    "    ID=tic_ids,\n",
    ")\n",
    "tois = (\n",
    "    mast_catalog.to_pandas()[[\"ID\", \"GAIA\"]]\n",
    "    .dropna()\n",
    "    .astype(int)\n",
    "    .rename(columns={\"ID\": \"TIC_ID\", \"GAIA\": \"dr2_source_id\"})\n",
    ")"
   ]
  },
  {
   "cell_type": "code",
   "execution_count": 128,
   "metadata": {},
   "outputs": [
    {
     "name": "stderr",
     "output_type": "stream",
     "text": [
      "100%|██████████| 1/1 [00:06<00:00,  6.83s/it]\n"
     ]
    }
   ],
   "source": [
    "# query the dr2_d3_crossmatch table to get the dr3 ids for the dr2 targets\n",
    "def dr2_dr3_crossmatch_query(id_list):\n",
    "    query = f\"\"\"\n",
    "    SELECT\n",
    "        dr2_source_id,\n",
    "        dr3_source_id,\n",
    "        angular_distance,\n",
    "        magnitude_difference\n",
    "    FROM\n",
    "        gaiadr3.dr2_neighbourhood\n",
    "    WHERE\n",
    "        dr2_source_id IN ({id_list})\n",
    "  \"\"\"\n",
    "    return query\n",
    "\n",
    "\n",
    "crossmatch_catalogue = gaia.query(\n",
    "    dr2_dr3_crossmatch_query, list(tois[\"dr2_source_id\"])\n",
    ").to_pandas()\n",
    "\n",
    "# select the closest match (in terms of angular distance) for each toi\n",
    "crossmatch_catalogue = crossmatch_catalogue.sort_values(\n",
    "    by=[\"dr2_source_id\", \"angular_distance\", \"magnitude_difference\"]\n",
    ")\n",
    "crossmatch_catalogue = crossmatch_catalogue.drop_duplicates(\n",
    "    subset=\"dr2_source_id\", keep=\"first\"\n",
    ").rename(columns={\"dr3_source_id\": \"SOURCE_ID\"})\n",
    "\n",
    "# add TIC ID back in\n",
    "crossmatch_catalogue = crossmatch_catalogue.merge(tois, on=\"dr2_source_id\", how=\"left\")\n",
    "\n",
    "# turn dataframe into back into astropy table\n",
    "crossmatch_catalogue = Table.from_pandas(\n",
    "    crossmatch_catalogue[[\"TIC_ID\", \"dr2_source_id\", \"SOURCE_ID\"]]\n",
    ")"
   ]
  },
  {
   "cell_type": "code",
   "execution_count": 129,
   "metadata": {},
   "outputs": [
    {
     "name": "stderr",
     "output_type": "stream",
     "text": [
      "100%|██████████| 1/1 [00:29<00:00, 29.49s/it]\n"
     ]
    }
   ],
   "source": [
    "# create query to get relevant columns from Gaia DR3 gaia_source and astrophysical_parameters tables\n",
    "def data_query(id_list):\n",
    "    query = f\"\"\"\n",
    "    SELECT\n",
    "        gaiadr3.gaia_source.source_id,\n",
    "        gaiadr3.gaia_source.parallax,\n",
    "        gaiadr3.gaia_source.parallax_error,\n",
    "        gaiadr3.gaia_source.ra,\n",
    "        gaiadr3.gaia_source.ra_error,\n",
    "        gaiadr3.gaia_source.dec,\n",
    "        gaiadr3.gaia_source.dec_error,\n",
    "        gaiadr3.gaia_source.pmra,\n",
    "        gaiadr3.gaia_source.pmra_error,\n",
    "        gaiadr3.gaia_source.pmdec,\n",
    "        gaiadr3.gaia_source.pmdec_error,\n",
    "        gaiadr3.gaia_source.radial_velocity,\n",
    "        gaiadr3.gaia_source.radial_velocity_error,\n",
    "        astrophysical_parameters.mh_gspphot,\n",
    "        astrophysical_parameters.mh_gspphot_lower,\n",
    "        astrophysical_parameters.mh_gspphot_upper,\n",
    "        astrophysical_parameters.mh_gspspec,\n",
    "        astrophysical_parameters.mh_gspspec_lower,\n",
    "        astrophysical_parameters.mh_gspspec_upper,\n",
    "        astrophysical_parameters.alphafe_gspspec,\n",
    "        astrophysical_parameters.alphafe_gspspec_lower,\n",
    "        astrophysical_parameters.alphafe_gspspec_upper,\n",
    "        astrophysical_parameters.logg_gspphot,\n",
    "        astrophysical_parameters.logg_gspphot_lower,\n",
    "        astrophysical_parameters.logg_gspphot_upper,\n",
    "        astrophysical_parameters.logg_gspspec,\n",
    "        astrophysical_parameters.logg_gspspec_lower,\n",
    "        astrophysical_parameters.logg_gspspec_upper,\n",
    "        astrophysical_parameters.flags_gspspec\n",
    "    FROM\n",
    "        gaiadr3.gaia_source\n",
    "    LEFT JOIN\n",
    "        gaiadr3.astrophysical_parameters\n",
    "    ON\n",
    "        gaiadr3.gaia_source.source_id = gaiadr3.astrophysical_parameters.source_id\n",
    "    WHERE\n",
    "        gaiadr3.gaia_source.source_id IN ({id_list});\n",
    "    \"\"\"\n",
    "    return query\n",
    "\n",
    "\n",
    "targets = gaia.query(data_query, crossmatch_catalogue[\"SOURCE_ID\"].tolist())  # type: ignore"
   ]
  },
  {
   "cell_type": "code",
   "execution_count": 130,
   "metadata": {},
   "outputs": [],
   "source": [
    "# add DR 2 source IDs back to the table\n",
    "targets = join(targets, crossmatch_catalogue, keys=\"SOURCE_ID\", join_type=\"left\")"
   ]
  },
  {
   "cell_type": "code",
   "execution_count": 131,
   "metadata": {},
   "outputs": [],
   "source": [
    "targets[\"flags_gspspec\"] = targets[\"flags_gspspec\"].astype(str)"
   ]
  },
  {
   "cell_type": "code",
   "execution_count": 132,
   "metadata": {},
   "outputs": [
    {
     "data": {
      "text/html": [
       "<div><i>Table length=5024</i>\n",
       "<table id=\"table138744847235360\" class=\"table-striped table-bordered table-condensed\">\n",
       "<thead><tr><th>SOURCE_ID</th><th>parallax</th><th>parallax_error</th><th>ra</th><th>ra_error</th><th>dec</th><th>dec_error</th><th>pmra</th><th>pmra_error</th><th>pmdec</th><th>pmdec_error</th><th>radial_velocity</th><th>radial_velocity_error</th><th>mh_gspphot</th><th>mh_gspphot_lower</th><th>mh_gspphot_upper</th><th>mh_gspspec</th><th>mh_gspspec_lower</th><th>mh_gspspec_upper</th><th>alphafe_gspspec</th><th>alphafe_gspspec_lower</th><th>alphafe_gspspec_upper</th><th>logg_gspphot</th><th>logg_gspphot_lower</th><th>logg_gspphot_upper</th><th>logg_gspspec</th><th>logg_gspspec_lower</th><th>logg_gspspec_upper</th><th>flags_gspspec</th><th>TIC_ID</th><th>dr2_source_id</th></tr></thead>\n",
       "<thead><tr><th></th><th>mas</th><th>mas</th><th>deg</th><th>mas</th><th>deg</th><th>mas</th><th>mas / yr</th><th>mas / yr</th><th>mas / yr</th><th>mas / yr</th><th>km / s</th><th>km / s</th><th>dex</th><th>dex</th><th>dex</th><th>dex</th><th>dex</th><th>dex</th><th>dex</th><th>dex</th><th>dex</th><th>log(cm.s**-2)</th><th>log(cm.s**-2)</th><th>log(cm.s**-2)</th><th>log(cm.s**-2)</th><th>log(cm.s**-2)</th><th>log(cm.s**-2)</th><th></th><th></th><th></th></tr></thead>\n",
       "<thead><tr><th>int64</th><th>float64</th><th>float32</th><th>float64</th><th>float32</th><th>float64</th><th>float32</th><th>float64</th><th>float32</th><th>float64</th><th>float32</th><th>float32</th><th>float32</th><th>float32</th><th>float32</th><th>float32</th><th>float32</th><th>float32</th><th>float32</th><th>float32</th><th>float32</th><th>float32</th><th>float32</th><th>float32</th><th>float32</th><th>float32</th><th>float32</th><th>float32</th><th>str41</th><th>int64</th><th>int64</th></tr></thead>\n",
       "<tr><td>16870631694208</td><td>2.101317240027476</td><td>0.017278953</td><td>45.11277842681158</td><td>0.01631012</td><td>0.3808400749444696</td><td>0.011937999</td><td>-0.9694212744716542</td><td>0.017738635</td><td>-12.268805117194699</td><td>0.014436127</td><td>1.8293474</td><td>0.47387925</td><td>-0.0973</td><td>-0.0995</td><td>-0.0943</td><td>-0.02</td><td>-0.07</td><td>0.04</td><td>0.23</td><td>0.18</td><td>0.31</td><td>3.6465</td><td>3.6426</td><td>3.6498</td><td>4.0</td><td>3.82</td><td>4.08</td><td>00000010000009999999900999900999999999999</td><td>347553438</td><td>16870631694208</td></tr>\n",
       "<tr><td>5642251292706560</td><td>5.630600975252042</td><td>0.111837156</td><td>41.0365552377074</td><td>0.10401954</td><td>3.9102297503213577</td><td>0.11184234</td><td>35.19180557343749</td><td>0.13307947</td><td>-13.430418676284175</td><td>0.12937282</td><td>47.388107</td><td>2.2437737</td><td>--</td><td>--</td><td>--</td><td>0.06</td><td>-0.03</td><td>0.13</td><td>0.03</td><td>-0.02</td><td>0.09</td><td>--</td><td>--</td><td>--</td><td>3.95</td><td>3.83</td><td>4.08</td><td>00000010000009999999999999999999999999999</td><td>318812447</td><td>5642251292706560</td></tr>\n",
       "<tr><td>5900705244680192</td><td>11.04055558204551</td><td>0.018207239</td><td>41.380427222993305</td><td>0.01574396</td><td>5.150722425576574</td><td>0.013853303</td><td>169.71209868691895</td><td>0.022668412</td><td>-76.79166582354438</td><td>0.01825901</td><td>8.675014</td><td>0.92564434</td><td>0.3409</td><td>0.2962</td><td>0.4454</td><td>0.13</td><td>0.09</td><td>0.17</td><td>0.14</td><td>0.11</td><td>0.18</td><td>4.5965</td><td>4.5914</td><td>4.6224</td><td>4.66</td><td>4.26</td><td>4.88</td><td>00000010000009999999999999999999999999999</td><td>318836983</td><td>5900705244680192</td></tr>\n",
       "<tr><td>6612604664008320</td><td>1.5767023050831437</td><td>0.014387907</td><td>41.50668018717253</td><td>0.012912129</td><td>6.461722058463088</td><td>0.010550172</td><td>4.107719899683058</td><td>0.017471151</td><td>-12.31770112071962</td><td>0.014407193</td><td>13.485204</td><td>4.1824627</td><td>-0.7633</td><td>-0.7824</td><td>-0.7455</td><td>--</td><td>--</td><td>--</td><td>--</td><td>--</td><td>--</td><td>4.2818</td><td>4.2757</td><td>4.2877</td><td>--</td><td>--</td><td>--</td><td></td><td>387401076</td><td>6612604664008320</td></tr>\n",
       "<tr><td>8727137322879488</td><td>3.144342761407983</td><td>0.017588122</td><td>44.24507555923245</td><td>0.014456175</td><td>7.85933013019336</td><td>0.016032454</td><td>-11.10579860196064</td><td>0.019388253</td><td>-10.701761158739602</td><td>0.020669417</td><td>-57.644592</td><td>1.518648</td><td>0.0934</td><td>0.0828</td><td>0.104</td><td>--</td><td>--</td><td>--</td><td>--</td><td>--</td><td>--</td><td>4.4562</td><td>4.4517</td><td>4.4662</td><td>--</td><td>--</td><td>--</td><td></td><td>387544178</td><td>8727137322879488</td></tr>\n",
       "<tr><td>13173974662864256</td><td>6.637852347883698</td><td>0.02064897</td><td>53.90715031526838</td><td>0.01846083</td><td>10.842912087774215</td><td>0.014394319</td><td>-4.896974009982596</td><td>0.023862822</td><td>-7.328017251033016</td><td>0.018664196</td><td>-34.099274</td><td>0.6833216</td><td>-0.1335</td><td>-0.1748</td><td>-0.119</td><td>-0.4</td><td>-0.54</td><td>-0.22</td><td>0.29</td><td>0.17</td><td>0.38</td><td>4.5758</td><td>4.564</td><td>4.589</td><td>5.01</td><td>4.89</td><td>5.04</td><td>00000021000009999999999999999999999999999</td><td>416739490</td><td>13173974662864256</td></tr>\n",
       "<tr><td>16781094356187264</td><td>3.866890626055434</td><td>0.01975974</td><td>51.99978411442126</td><td>0.017176475</td><td>12.52341082053971</td><td>0.014079683</td><td>-2.977914380051434</td><td>0.023701936</td><td>-27.508216157417856</td><td>0.018300397</td><td>-20.893532</td><td>3.542653</td><td>-0.0775</td><td>-0.0929</td><td>-0.0599</td><td>--</td><td>--</td><td>--</td><td>--</td><td>--</td><td>--</td><td>4.5074</td><td>4.5035</td><td>4.5113</td><td>--</td><td>--</td><td>--</td><td></td><td>435259601</td><td>16781094356187264</td></tr>\n",
       "<tr><td>17487702375676544</td><td>4.320601376584021</td><td>0.018078152</td><td>51.029238909720746</td><td>0.01656576</td><td>12.43596062334673</td><td>0.012866501</td><td>23.386021013529234</td><td>0.023527598</td><td>-20.191654839512108</td><td>0.01681375</td><td>9.260306</td><td>1.7231047</td><td>-0.3593</td><td>-0.3797</td><td>-0.3401</td><td>--</td><td>--</td><td>--</td><td>--</td><td>--</td><td>--</td><td>4.433</td><td>4.4281</td><td>4.4375</td><td>--</td><td>--</td><td>--</td><td></td><td>303502327</td><td>17487702375676544</td></tr>\n",
       "<tr><td>17705405678085120</td><td>18.683855109941096</td><td>0.016442139</td><td>51.365401545957866</td><td>0.015722973</td><td>13.507491384682103</td><td>0.01259524</td><td>17.3349808610933</td><td>0.020159831</td><td>23.421759471117618</td><td>0.015891979</td><td>0.8170374</td><td>0.1813797</td><td>--</td><td>--</td><td>--</td><td>-0.04</td><td>-0.26</td><td>-0.01</td><td>0.08</td><td>0.01</td><td>0.1</td><td>--</td><td>--</td><td>--</td><td>5.04</td><td>4.93</td><td>5.09</td><td>00000012000009999999999999999999999999999</td><td>303523128</td><td>17705401382436608</td></tr>\n",
       "<tr><td>...</td><td>...</td><td>...</td><td>...</td><td>...</td><td>...</td><td>...</td><td>...</td><td>...</td><td>...</td><td>...</td><td>...</td><td>...</td><td>...</td><td>...</td><td>...</td><td>...</td><td>...</td><td>...</td><td>...</td><td>...</td><td>...</td><td>...</td><td>...</td><td>...</td><td>...</td><td>...</td><td>...</td><td>...</td><td>...</td><td>...</td></tr>\n",
       "<tr><td>6828414301700413056</td><td>1.4065963099689611</td><td>0.018267723</td><td>321.39440416792104</td><td>0.015511634</td><td>-21.798410834817954</td><td>0.013608692</td><td>-10.309921410974876</td><td>0.018554172</td><td>-6.89689352521211</td><td>0.0170079</td><td>22.534311</td><td>2.9302762</td><td>--</td><td>--</td><td>--</td><td>--</td><td>--</td><td>--</td><td>--</td><td>--</td><td>--</td><td>--</td><td>--</td><td>--</td><td>--</td><td>--</td><td>--</td><td></td><td>99648579</td><td>6828414301700413056</td></tr>\n",
       "<tr><td>6845643580189962112</td><td>1.3029895639613789</td><td>0.045887366</td><td>304.39506924366793</td><td>0.034542337</td><td>-28.821371719159913</td><td>0.03179542</td><td>-1.4442308632010201</td><td>0.044216454</td><td>-22.211553538510564</td><td>0.035529006</td><td>-3.1144834</td><td>2.867905</td><td>-0.5984</td><td>-0.6186</td><td>-0.5526</td><td>--</td><td>--</td><td>--</td><td>--</td><td>--</td><td>--</td><td>3.7308</td><td>3.7068</td><td>3.753</td><td>--</td><td>--</td><td>--</td><td></td><td>164249928</td><td>6845643580189962112</td></tr>\n",
       "<tr><td>6881382209222277376</td><td>3.5818310658937933</td><td>0.015326125</td><td>303.5634973787848</td><td>0.01335328</td><td>-10.497987750622377</td><td>0.008876951</td><td>-6.625943656897017</td><td>0.016031552</td><td>-18.45523324367456</td><td>0.011234564</td><td>5.970244</td><td>0.5896572</td><td>--</td><td>--</td><td>--</td><td>0.2</td><td>-0.01</td><td>0.26</td><td>0.16</td><td>0.11</td><td>0.25</td><td>--</td><td>--</td><td>--</td><td>4.43</td><td>4.28</td><td>5.15</td><td>00000010000009999999900999901999999999999</td><td>71459120</td><td>6881382209222277376</td></tr>\n",
       "<tr><td>6897451365497945984</td><td>2.6397303810982398</td><td>0.016631013</td><td>321.89722292386125</td><td>0.013705334</td><td>-8.352444496102134</td><td>0.010899909</td><td>6.548029830906107</td><td>0.017607145</td><td>5.590865081582087</td><td>0.011903512</td><td>-6.810787</td><td>1.1210867</td><td>0.2033</td><td>0.1998</td><td>0.2073</td><td>0.4</td><td>0.29</td><td>0.5</td><td>-0.05</td><td>-0.14</td><td>0.09</td><td>4.2942</td><td>4.2896</td><td>4.2988</td><td>3.75</td><td>3.54</td><td>3.91</td><td>00000020000009999999999999999999999999999</td><td>187416256</td><td>6897451365497945984</td></tr>\n",
       "<tr><td>6902829553611002624</td><td>20.911197598753624</td><td>0.015373864</td><td>313.292097178933</td><td>0.011221361</td><td>-9.044059458235939</td><td>0.0068763383</td><td>43.3996580818067</td><td>0.015702596</td><td>-29.25489109054403</td><td>0.012245894</td><td>-7.940023</td><td>0.15432338</td><td>-0.1443</td><td>-0.1472</td><td>-0.1412</td><td>0.17</td><td>0.17</td><td>0.18</td><td>0.08</td><td>0.08</td><td>0.09</td><td>4.5413</td><td>4.5405</td><td>4.542</td><td>5.02</td><td>5.01</td><td>5.03</td><td>00000001000009999999999999999999999999999</td><td>23961340</td><td>6902829553611002624</td></tr>\n",
       "<tr><td>6909261529129729536</td><td>1.9947365212384867</td><td>0.023136048</td><td>317.4735037441854</td><td>0.020013675</td><td>-7.415148455140539</td><td>0.013484944</td><td>-19.027873056259583</td><td>0.02476762</td><td>-22.851120888966985</td><td>0.016484113</td><td>26.529829</td><td>1.3734319</td><td>0.1408</td><td>0.1351</td><td>0.1462</td><td>--</td><td>--</td><td>--</td><td>--</td><td>--</td><td>--</td><td>4.25</td><td>4.2417</td><td>4.2583</td><td>--</td><td>--</td><td>--</td><td></td><td>24833662</td><td>6909261529129729536</td></tr>\n",
       "<tr><td>6909776680392269824</td><td>1.1365381784638433</td><td>0.023009872</td><td>313.27230644910003</td><td>0.01846671</td><td>-7.474876545111862</td><td>0.009294087</td><td>17.53313579555779</td><td>0.025580112</td><td>-4.215833456085305</td><td>0.01596472</td><td>-42.931355</td><td>1.6272959</td><td>--</td><td>--</td><td>--</td><td>--</td><td>--</td><td>--</td><td>--</td><td>--</td><td>--</td><td>--</td><td>--</td><td>--</td><td>--</td><td>--</td><td>--</td><td></td><td>23912656</td><td>6909776680392269824</td></tr>\n",
       "<tr><td>6911563253643561216</td><td>1.0718944689014716</td><td>0.018540533</td><td>319.78029281502876</td><td>0.014655075</td><td>-4.741358492797726</td><td>0.012920502</td><td>1.2384530937437934</td><td>0.018740164</td><td>-6.4789573660729145</td><td>0.014638124</td><td>9.849617</td><td>6.072317</td><td>--</td><td>--</td><td>--</td><td>--</td><td>--</td><td>--</td><td>--</td><td>--</td><td>--</td><td>--</td><td>--</td><td>--</td><td>--</td><td>--</td><td>--</td><td></td><td>407958640</td><td>6911563253643561216</td></tr>\n",
       "<tr><td>6911770850887194112</td><td>1.0436694949378544</td><td>0.020047065</td><td>319.53076747040967</td><td>0.018233744</td><td>-4.447344936053144</td><td>0.013565657</td><td>9.998035913990789</td><td>0.02461245</td><td>-18.92896048415917</td><td>0.015823381</td><td>-31.429462</td><td>5.00954</td><td>-0.2452</td><td>-0.3388</td><td>-0.166</td><td>--</td><td>--</td><td>--</td><td>--</td><td>--</td><td>--</td><td>3.854</td><td>3.7934</td><td>3.8855</td><td>--</td><td>--</td><td>--</td><td></td><td>364192929</td><td>6911770850887194112</td></tr>\n",
       "<tr><td>6916639527030679680</td><td>16.968884945373436</td><td>0.013388949</td><td>313.7262994669631</td><td>0.010681348</td><td>-2.3344180238214824</td><td>0.0060553183</td><td>71.97752111472207</td><td>0.013061478</td><td>9.06007515448792</td><td>0.010873296</td><td>-30.867088</td><td>0.15301411</td><td>-0.0726</td><td>-0.0755</td><td>-0.0695</td><td>-0.07</td><td>-0.08</td><td>-0.05</td><td>0.06</td><td>0.05</td><td>0.08</td><td>4.5111</td><td>4.5105</td><td>4.5119</td><td>5.02</td><td>5.01</td><td>5.04</td><td>00000001000009999999999999999999999999999</td><td>248769312</td><td>6916639527030679680</td></tr>\n",
       "</table></div>"
      ],
      "text/plain": [
       "<Table length=5024>\n",
       "     SOURCE_ID           parallax      ...   TIC_ID     dr2_source_id   \n",
       "                           mas         ...                              \n",
       "       int64             float64       ...   int64          int64       \n",
       "------------------- ------------------ ... --------- -------------------\n",
       "     16870631694208  2.101317240027476 ... 347553438      16870631694208\n",
       "   5642251292706560  5.630600975252042 ... 318812447    5642251292706560\n",
       "   5900705244680192  11.04055558204551 ... 318836983    5900705244680192\n",
       "   6612604664008320 1.5767023050831437 ... 387401076    6612604664008320\n",
       "   8727137322879488  3.144342761407983 ... 387544178    8727137322879488\n",
       "  13173974662864256  6.637852347883698 ... 416739490   13173974662864256\n",
       "  16781094356187264  3.866890626055434 ... 435259601   16781094356187264\n",
       "  17487702375676544  4.320601376584021 ... 303502327   17487702375676544\n",
       "  17705405678085120 18.683855109941096 ... 303523128   17705401382436608\n",
       "                ...                ... ...       ...                 ...\n",
       "6828414301700413056 1.4065963099689611 ...  99648579 6828414301700413056\n",
       "6845643580189962112 1.3029895639613789 ... 164249928 6845643580189962112\n",
       "6881382209222277376 3.5818310658937933 ...  71459120 6881382209222277376\n",
       "6897451365497945984 2.6397303810982398 ... 187416256 6897451365497945984\n",
       "6902829553611002624 20.911197598753624 ...  23961340 6902829553611002624\n",
       "6909261529129729536 1.9947365212384867 ...  24833662 6909261529129729536\n",
       "6909776680392269824 1.1365381784638433 ...  23912656 6909776680392269824\n",
       "6911563253643561216 1.0718944689014716 ... 407958640 6911563253643561216\n",
       "6911770850887194112 1.0436694949378544 ... 364192929 6911770850887194112\n",
       "6916639527030679680 16.968884945373436 ... 248769312 6916639527030679680"
      ]
     },
     "execution_count": 132,
     "metadata": {},
     "output_type": "execute_result"
    }
   ],
   "source": [
    "targets"
   ]
  },
  {
   "cell_type": "code",
   "execution_count": 134,
   "metadata": {},
   "outputs": [],
   "source": [
    "# save\n",
    "targets.write(\n",
    "    get_abspath() + \"data/WIP/TESS_targets.fits\", format=\"fits\", overwrite=True\n",
    ")"
   ]
  }
 ],
 "metadata": {
  "kernelspec": {
   "display_name": "plato",
   "language": "python",
   "name": "python3"
  },
  "language_info": {
   "codemirror_mode": {
    "name": "ipython",
    "version": 3
   },
   "file_extension": ".py",
   "mimetype": "text/x-python",
   "name": "python",
   "nbconvert_exporter": "python",
   "pygments_lexer": "ipython3",
   "version": "3.12.2"
  }
 },
 "nbformat": 4,
 "nbformat_minor": 4
}
