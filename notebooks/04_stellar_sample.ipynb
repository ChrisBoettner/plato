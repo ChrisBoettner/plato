{
 "cells": [
  {
   "cell_type": "code",
   "execution_count": 1,
   "metadata": {},
   "outputs": [],
   "source": [
    "import matplotlib.pyplot as plt\n",
    "import numpy as np\n",
    "import pandas as pd\n",
    "import seaborn as sns\n",
    "from matplotlib.patches import Circle\n",
    "from scipy.stats import gaussian_kde\n",
    "from sklearn.preprocessing import MinMaxScaler\n",
    "\n",
    "from plato.stars import filter_valid_targets\n",
    "from plato.visualisation import (\n",
    "    FigureProcessor,\n",
    "    adjust_legend,\n",
    "    get_palette,\n",
    "    set_plot_defaults,\n",
    ")"
   ]
  },
  {
   "cell_type": "code",
   "execution_count": 2,
   "metadata": {},
   "outputs": [],
   "source": [
    "field = \"all_sky\""
   ]
  },
  {
   "cell_type": "code",
   "execution_count": 3,
   "metadata": {},
   "outputs": [],
   "source": [
    "set_plot_defaults()\n",
    "\n",
    "figure_directory = f\"../figures/04_stellar_sample/{field}\"\n",
    "save = True"
   ]
  },
  {
   "cell_type": "code",
   "execution_count": 4,
   "metadata": {
    "metadata": {}
   },
   "outputs": [],
   "source": [
    "data = pd.read_csv(f\"../data/processed/{field}_targets.csv\", low_memory=False)\n",
    "\n",
    "# filter for FGK stars and incomplete data\n",
    "data = filter_valid_targets(data)"
   ]
  },
  {
   "cell_type": "markdown",
   "metadata": {},
   "source": [
    "## COORDINATES"
   ]
  },
  {
   "cell_type": "code",
   "execution_count": null,
   "metadata": {},
   "outputs": [],
   "source": [
    "kernel = gaussian_kde(data[[\"R\", \"Z\"]].sample(n=10000).T)(data[[\"R\", \"Z\"]][::10].T)\n",
    "coordinate_scatterplot = sns.scatterplot(\n",
    "    data=data[::10].assign(\n",
    "        Population=data[\"Population\"].replace(\n",
    "            \"Thick Disk Candidate\",\n",
    "            \"Thick Disk C.\",\n",
    "        )\n",
    "    ),\n",
    "    x=\"R\",\n",
    "    y=\"Z\",\n",
    "    c=kernel,\n",
    "    cmap=get_palette(as_cmap=True, reverse=True),\n",
    "    s=10,\n",
    "    alpha=0.5,\n",
    "    linewidth=0,\n",
    "    rasterized=True,\n",
    ")\n",
    "\n",
    "coordinate_scatterplot.set_xlabel(\"Galactocentric Radius (kpc)\")\n",
    "coordinate_scatterplot.set_ylabel(\"Height above Galactic Plane (kpc)\")\n",
    "\n",
    "FigureProcessor(coordinate_scatterplot).save(\n",
    "    \"coordinate_scatterplot.pdf\",\n",
    "    figure_directory=figure_directory,\n",
    "    save=save,\n",
    ")"
   ]
  },
  {
   "cell_type": "markdown",
   "metadata": {},
   "source": [
    "## TOOMRE DIAGRAM"
   ]
  },
  {
   "cell_type": "code",
   "execution_count": null,
   "metadata": {},
   "outputs": [],
   "source": [
    "toomre_scatterplot = sns.scatterplot(\n",
    "    data=data.assign(\n",
    "        Population=data[\"Population\"].replace(\n",
    "            \"Thick Disk Candidate\",\n",
    "            \"Thick Disk C.\",\n",
    "        )\n",
    "    ),\n",
    "    x=\"V\",\n",
    "    y=\"UW\",\n",
    "    hue=\"Population\",\n",
    "    hue_order=[\"Thin Disk\", \"Thick Disk C.\", \"Thick Disk\", \"Halo Candidate\", \"Halo\"],\n",
    "    palette=get_palette(n_colors=5),\n",
    "    alpha=0.5,\n",
    "    linewidth=0,\n",
    "    rasterized=True,\n",
    ")\n",
    "toomre_scatterplot.set_xlim(-660, 660)\n",
    "toomre_scatterplot.set_ylim(0, 660)\n",
    "\n",
    "for radius in (100, 200, 300, 400, 500, 600):\n",
    "    circle = Circle(\n",
    "        (0, 0),\n",
    "        radius,\n",
    "        color=\"grey\",\n",
    "        linestyle=\"-.\",\n",
    "        linewidth=3,\n",
    "        fill=False,\n",
    "    )\n",
    "    toomre_scatterplot.add_patch(circle)\n",
    "toomre_scatterplot.set_aspect(\"equal\")\n",
    "\n",
    "toomre_scatterplot.grid(False)\n",
    "toomre_scatterplot.legend(markerscale=5)\n",
    "toomre_scatterplot.set_xlabel(r\"$V_\\mathrm{LSR}$ (km/s)\")\n",
    "toomre_scatterplot.set_ylabel(r\"$\\sqrt{U_\\mathrm{LSR}^2 + W_\\mathrm{LSR}^2}$ (km/s)\")\n",
    "\n",
    "FigureProcessor(toomre_scatterplot).save(\n",
    "    \"toomre_scatterplot.pdf\",\n",
    "    figure_directory=figure_directory,\n",
    "    save=save,\n",
    ")"
   ]
  },
  {
   "cell_type": "markdown",
   "metadata": {},
   "source": [
    "## METALLICITY"
   ]
  },
  {
   "cell_type": "code",
   "execution_count": null,
   "metadata": {},
   "outputs": [],
   "source": [
    "# fill nan values in [Fe/H]_apogee with [Fe/H]_galah if available\n",
    "data[\"[Fe/H]_high_res\"] = data[\"[Fe/H]_apogee\"].fillna(data[\"[Fe/H]_galah\"])"
   ]
  },
  {
   "cell_type": "code",
   "execution_count": null,
   "metadata": {},
   "outputs": [],
   "source": [
    "metallicity_plot = sns.histplot(\n",
    "    data=data,\n",
    "    x=\"[Fe/H]_high_res\",\n",
    "    hue=\"Population\",\n",
    "    hue_order=[\"Thin Disk\", \"Thick Disk\", \"Halo\"],\n",
    "    stat=\"density\",\n",
    "    common_bins=False,\n",
    "    common_norm=False,\n",
    "    linewidth=0,\n",
    "    palette=get_palette(n_colors=3),\n",
    "    legend=True,\n",
    ")\n",
    "metallicity_plot.get_legend().set_title(\"\")\n",
    "metallicity_plot.set_xlabel(\"[Fe/H]\")\n",
    "metallicity_plot.grid(False)\n",
    "\n",
    "FigureProcessor(metallicity_plot).save(\n",
    "    \"metallicity_hist.pdf\",\n",
    "    figure_directory=figure_directory,\n",
    "    save=save,\n",
    ")"
   ]
  },
  {
   "cell_type": "markdown",
   "metadata": {},
   "source": [
    "## METALLICITY - ALPHA ABUNDANCE"
   ]
  },
  {
   "cell_type": "code",
   "execution_count": null,
   "metadata": {},
   "outputs": [],
   "source": [
    "scaler = 0\n",
    "for dataset, column in {\n",
    "    \"_apogee\": \"[alpha/M]_apogee\",\n",
    "    \"_galah\": \"[alpha/Fe]_galah\",\n",
    "}.items():\n",
    "    metallicity_alpha_plot, ax = plt.subplots()\n",
    "    for i, component in enumerate([\"Thin Disk\", \"Thick Disk\"]):\n",
    "\n",
    "        fit_data = data[data[\"Population\"] == component]\n",
    "        fit_data = fit_data[[f\"[Fe/H]{dataset}\", column]].dropna()\n",
    "        if len(fit_data) == 0:\n",
    "            continue\n",
    "        kernel = gaussian_kde(fit_data.T)(fit_data.T)\n",
    "\n",
    "        scatter_range = np.array([12, 20]) * (2.5 * scaler + 1)\n",
    "        ax = sns.scatterplot(\n",
    "            data=fit_data,\n",
    "            x=f\"[Fe/H]{dataset}\",\n",
    "            y=column,\n",
    "            c=kernel,\n",
    "            cmap=get_palette(as_cmap=True, start=2.3 * i),\n",
    "            s=MinMaxScaler(feature_range=tuple(scatter_range)).fit_transform(  # type: ignore\n",
    "                kernel.reshape(-1, 1) ** 4\n",
    "            ),\n",
    "            linewidth=0,\n",
    "            alpha=1 - 0.3 * i,\n",
    "            rasterized=True,\n",
    "            label=component,\n",
    "            ax=ax,\n",
    "        )\n",
    "\n",
    "    sns.scatterplot(\n",
    "        data=data[data[\"Population\"] == \"Halo\"],\n",
    "        x=f\"[Fe/H]{dataset}\",\n",
    "        y=column,\n",
    "        s=50 * (1 + 2 * scaler),\n",
    "        marker=\"D\",\n",
    "        edgecolor=get_palette(start=0.4)[-3],  # type: ignore\n",
    "        facecolor=\"none\",\n",
    "        linewidth=2 * (1 + 0.75 * scaler),\n",
    "        rasterized=True,\n",
    "        label=\"Halo\",\n",
    "        ax=ax,\n",
    "    )\n",
    "\n",
    "    scaler += 1\n",
    "\n",
    "    # check if anything was plotted before processing and saving\n",
    "    if len(ax.lines) > 0 or len(ax.collections) > 0:\n",
    "        adjust_legend(ax, ncols=3, loc=\"lower left\", common_markersize=300)\n",
    "        ax.set_xlabel(\"[Fe/H]\")\n",
    "        ax.set_ylabel(column.replace(\"alpha\", r\"$\\alpha$\").replace(dataset, \"\"))\n",
    "        ax.set_xlim(-2.4, 0.7)\n",
    "        ax.set_ylim(-0.4, 0.66)\n",
    "\n",
    "        FigureProcessor(metallicity_alpha_plot).save(\n",
    "            f\"metallicity_alpha{dataset}.pdf\",\n",
    "            figure_directory=figure_directory,\n",
    "            save=save,\n",
    "        )\n",
    "        plt.show()\n",
    "    else:\n",
    "        plt.close()"
   ]
  },
  {
   "cell_type": "markdown",
   "metadata": {},
   "source": [
    "## METALLICITY TABLES"
   ]
  },
  {
   "cell_type": "code",
   "execution_count": null,
   "metadata": {},
   "outputs": [],
   "source": [
    "data.groupby(\"Population\").agg(\n",
    "    {\n",
    "        \"[Fe/H]_apogee\": [\"median\"],\n",
    "        \"[alpha/M]_apogee\": [\"median\"],\n",
    "        \"[Fe/H]_galah\": [\"median\"],\n",
    "        \"[alpha/Fe]_galah\": [\"median\"],\n",
    "    }\n",
    ").round(2)"
   ]
  }
 ],
 "metadata": {
  "kernelspec": {
   "display_name": "plato",
   "language": "python",
   "name": "python3"
  },
  "language_info": {
   "codemirror_mode": {
    "name": "ipython",
    "version": 3
   },
   "file_extension": ".py",
   "mimetype": "text/x-python",
   "name": "python",
   "nbconvert_exporter": "python",
   "pygments_lexer": "ipython3",
   "version": "3.12.2"
  }
 },
 "nbformat": 4,
 "nbformat_minor": 2
}
