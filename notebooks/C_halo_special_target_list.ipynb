{
 "cells": [
  {
   "cell_type": "code",
   "execution_count": 12,
   "metadata": {
    "execution": {
     "iopub.execute_input": "2024-06-03T19:31:01.351608Z",
     "iopub.status.busy": "2024-06-03T19:31:01.351450Z",
     "iopub.status.idle": "2024-06-03T19:31:20.320373Z",
     "shell.execute_reply": "2024-06-03T19:31:20.319924Z"
    }
   },
   "outputs": [],
   "source": [
    "import pandas as pd\n",
    "from astropy import units as u\n",
    "from astropy.coordinates import SkyCoord\n",
    "\n",
    "from plato.stars import filter_p1_targets, filter_valid_targets\n",
    "from plato.utils import get_abspath"
   ]
  },
  {
   "cell_type": "code",
   "execution_count": 13,
   "metadata": {
    "execution": {
     "iopub.execute_input": "2024-06-03T19:31:20.322890Z",
     "iopub.status.busy": "2024-06-03T19:31:20.322699Z",
     "iopub.status.idle": "2024-06-03T19:31:23.941775Z",
     "shell.execute_reply": "2024-06-03T19:31:23.940452Z"
    }
   },
   "outputs": [],
   "source": [
    "LOPS2 = pd.read_csv(get_abspath() + f\"data/processed/LOPS2_targets.csv\")\n",
    "LOPN1 = pd.read_csv(get_abspath() + f\"data/processed/LOPN1_targets.csv\")\n",
    "\n",
    "LOPN1[\"Field\"] = \"LOPN1\"\n",
    "LOPS2[\"Field\"] = \"LOPS2\"\n",
    "\n",
    "fields = pd.concat([LOPS2, LOPN1])\n",
    "fields = filter_valid_targets(fields)\n",
    "fields = fields[\n",
    "    [\n",
    "        \"gaiaID_DR3\",\n",
    "        \"GLON\",\n",
    "        \"GLAT\",\n",
    "        \"gaiaV\",\n",
    "        \"Population\",\n",
    "        \"Field\",\n",
    "        \"n_cameras\",\n",
    "        \"[Fe/H]\",\n",
    "        \"[Fe/H]_apogee\",\n",
    "    ]\n",
    "]\n",
    "\n",
    "fields = fields.rename(\n",
    "    columns={\n",
    "        \"gaiaV\": \"Magnitude_V\",\n",
    "        \"GLON\": \"l\",\n",
    "        \"GLAT\": \"b\",\n",
    "    }\n",
    ")\n",
    "\n",
    "p1_sample = filter_p1_targets(fields)"
   ]
  },
  {
   "cell_type": "markdown",
   "metadata": {},
   "source": [
    "## FILTER SPECIAL TARGETS"
   ]
  },
  {
   "cell_type": "code",
   "execution_count": 3,
   "metadata": {
    "execution": {
     "iopub.execute_input": "2024-06-03T19:31:23.946900Z",
     "iopub.status.busy": "2024-06-03T19:31:23.946549Z",
     "iopub.status.idle": "2024-06-03T19:31:23.956761Z",
     "shell.execute_reply": "2024-06-03T19:31:23.956242Z"
    }
   },
   "outputs": [
    {
     "name": "stdout",
     "output_type": "stream",
     "text": [
      "Number of special targets:  0\n"
     ]
    }
   ],
   "source": [
    "special_targets = (\n",
    "    p1_sample[p1_sample[\"Population\"] == \"Halo\"]\n",
    "    .drop(columns=[\"Population\", \"n_cameras\"])\n",
    "    .rename(\n",
    "        columns={\n",
    "            \"gaiaID_DR3\": \"Gaia DR3 ID\",\n",
    "            \"Magnitude_V\": \"V Magnitude\",\n",
    "        }\n",
    "    )\n",
    ")\n",
    "print(\"Number of special targets: \", len(special_targets))"
   ]
  },
  {
   "cell_type": "code",
   "execution_count": 4,
   "metadata": {
    "execution": {
     "iopub.execute_input": "2024-06-03T19:31:23.993160Z",
     "iopub.status.busy": "2024-06-03T19:31:23.992960Z",
     "iopub.status.idle": "2024-06-03T19:31:24.003805Z",
     "shell.execute_reply": "2024-06-03T19:31:24.003283Z"
    }
   },
   "outputs": [],
   "source": [
    "# create a SkyCoord object with galactic coordinates\n",
    "galactic_coord = SkyCoord(\n",
    "    l=special_targets[\"l\"].to_numpy() * u.deg,\n",
    "    b=special_targets[\"b\"].to_numpy() * u.deg,\n",
    "    frame=\"galactic\",\n",
    ")\n",
    "\n",
    "# convert galactic coordinates to equatorial coordinates\n",
    "equatorial_coord = galactic_coord.transform_to(\"icrs\")\n",
    "special_targets[\"RA\"] = equatorial_coord.ra.to_string(\n",
    "    u.hourangle, sep=\"hms\", pad=True, precision=2\n",
    ")\n",
    "special_targets[\"Dec\"] = equatorial_coord.dec.to_string(\n",
    "    u.deg, sep=\"dms\", pad=True, precision=2\n",
    ")\n",
    "\n",
    "special_targets[\"l\"] = special_targets[\"l\"].round(5).astype(str)\n",
    "special_targets[\"b\"] = special_targets[\"b\"].round(5).astype(str)\n",
    "special_targets[\"V Magnitude\"] = special_targets[\"V Magnitude\"].round(2).astype(str)"
   ]
  },
  {
   "cell_type": "code",
   "execution_count": 5,
   "metadata": {
    "execution": {
     "iopub.execute_input": "2024-06-03T19:31:24.005901Z",
     "iopub.status.busy": "2024-06-03T19:31:24.005717Z",
     "iopub.status.idle": "2024-06-03T19:31:24.010524Z",
     "shell.execute_reply": "2024-06-03T19:31:24.010125Z"
    }
   },
   "outputs": [],
   "source": [
    "special_targets_table = special_targets[\n",
    "    [\"Gaia DR3 ID\", \"RA\", \"Dec\", \"l\", \"b\", \"V Magnitude\", \"Field\"]\n",
    "]\n",
    "LOPS2_table = special_targets_table[special_targets[\"Field\"] == \"LOPS2\"].drop(\n",
    "    columns=[\"Field\"]\n",
    ")\n",
    "LOPN1_table = special_targets_table[special_targets[\"Field\"] == \"LOPN1\"].drop(\n",
    "    columns=[\"Field\"]\n",
    ")"
   ]
  },
  {
   "cell_type": "code",
   "execution_count": 6,
   "metadata": {
    "execution": {
     "iopub.execute_input": "2024-06-03T19:31:24.012507Z",
     "iopub.status.busy": "2024-06-03T19:31:24.012344Z",
     "iopub.status.idle": "2024-06-03T19:31:24.260850Z",
     "shell.execute_reply": "2024-06-03T19:31:24.260348Z"
    }
   },
   "outputs": [
    {
     "name": "stdout",
     "output_type": "stream",
     "text": [
      "\\begin{tabular}{rlllll}\n",
      "\\toprule\n",
      "Gaia DR3 ID & RA & Dec & l & b & V Magnitude \\\\\n",
      "\\midrule\n",
      "2892879693284897536 & 06h16m37.01s & -32d27m15.29s & 239.62354 & -20.99928 & 10.89 \\\\\n",
      "2911140863435161856 & 05h59m33.51s & -26d16m35.09s & 232.0118 & -22.39392 & 10.91 \\\\\n",
      "4662889729476972416 & 04h38m24.22s & -65d24m38.18s & 276.67025 & -38.1506 & 9.82 \\\\\n",
      "4676601464106231040 & 04h23m43.36s & -62d17m05.00s & 273.55676 & -40.71957 & 10.52 \\\\\n",
      "4761346872572913408 & 05h13m07.19s & -59d38m36.27s & 268.56794 & -35.48969 & 9.39 \\\\\n",
      "4768015406298936960 & 05h47m36.18s & -54d09m57.56s & 261.95891 & -30.85913 & 10.57 \\\\\n",
      "4772221523607359232 & 05h25m26.69s & -51d58m42.48s & 259.15855 & -34.06364 & 10.98 \\\\\n",
      "4797516475799429888 & 05h18m19.97s & -48d52m16.70s & 255.33827 & -35.08485 & 10.63 \\\\\n",
      "4818949324679566720 & 05h13m48.21s & -40d54m03.53s & 245.53908 & -35.2076 & 10.73 \\\\\n",
      "4864851495597048448 & 04h33m26.34s & -38d18m08.85s & 241.28118 & -42.70393 & 10.96 \\\\\n",
      "4874147282294634496 & 04h46m26.38s & -33d09m18.77s & 234.89973 & -39.4875 & 10.88 \\\\\n",
      "4874355845906645120 & 04h44m49.12s & -32d52m40.74s & 234.47078 & -39.77595 & 9.82 \\\\\n",
      "5297612567846523648 & 08h55m16.79s & -63d11m48.85s & 279.68487 & -11.56833 & 10.59 \\\\\n",
      "5303348140199025920 & 08h53m18.62s & -59d02m02.45s & 276.24095 & -9.13719 & 9.18 \\\\\n",
      "5486881507314450816 & 07h06m28.77s & -57d27m18.39s & 267.92099 & -20.66972 & 9.49 \\\\\n",
      "5489531880096156416 & 07h53m21.37s & -52d39m13.01s & 266.12717 & -12.61531 & 9.46 \\\\\n",
      "5490827169212941056 & 07h16m15.58s & -54d16m38.91s & 265.24364 & -18.30189 & 10.37 \\\\\n",
      "5494465006512656000 & 06h01m47.64s & -59d51m51.34s & 268.69547 & -29.3658 & 10.18 \\\\\n",
      "5498528840145966464 & 06h55m28.03s & -52d47m36.15s & 262.66243 & -20.71451 & 9.96 \\\\\n",
      "5510893810476230144 & 07h34m18.14s & -45d16m36.11s & 257.95676 & -11.97777 & 10.54 \\\\\n",
      "5534999297246168320 & 07h35m22.44s & -44d25m02.43s & 257.26085 & -11.42081 & 10.75 \\\\\n",
      "5537359398962337280 & 07h56m34.82s & -40d20m27.82s & 255.56685 & -6.02412 & 10.96 \\\\\n",
      "5539856596020917376 & 08h15m04.77s & -39d58m08.40s & 257.14142 & -2.83572 & 10.98 \\\\\n",
      "5545190739243196672 & 07h58m07.44s & -35d54m56.94s & 251.92065 & -3.47982 & 10.42 \\\\\n",
      "5549536180990319616 & 06h25m44.65s & -50d08m47.30s & 258.54324 & -24.4474 & 10.88 \\\\\n",
      "5551362018831013376 & 06h43m15.47s & -48d39m59.03s & 257.82336 & -21.30686 & 10.56 \\\\\n",
      "5551565291043498496 & 06h41m26.76s & -48d13m11.51s & 257.2697 & -21.46142 & 10.52 \\\\\n",
      "5555201689530777344 & 06h28m22.83s & -47d46m42.24s & 256.15226 & -23.43749 & 10.97 \\\\\n",
      "5556830959605647360 & 06h29m33.11s & -44d15m03.85s & 252.53326 & -22.27004 & 10.21 \\\\\n",
      "5557022343348187392 & 06h42m10.34s & -44d02m26.04s & 253.06044 & -20.05018 & 10.88 \\\\\n",
      "5578884070483294976 & 06h52m22.61s & -36d24m18.71s & 246.28301 & -15.52673 & 10.8 \\\\\n",
      "5584821364554787456 & 07h25m11.33s & -40d23m42.41s & 252.73421 & -11.30575 & 10.32 \\\\\n",
      "5586241315104190848 & 07h28m03.43s & -38d00m45.45s & 250.81879 & -9.74411 & 9.68 \\\\\n",
      "5591693277872556544 & 07h31m59.97s & -33d23m37.48s & 247.05209 & -6.9005 & 10.37 \\\\\n",
      "5616551552155482880 & 07h18m43.25s & -24d39m26.88s & 237.91749 & -5.40371 & 8.94 \\\\\n",
      "5618295476367781504 & 07h30m41.52s & -23d59m08.82s & 238.60724 & -2.68067 & 10.91 \\\\\n",
      "\\bottomrule\n",
      "\\end{tabular}\n",
      "\n"
     ]
    }
   ],
   "source": [
    "print(LOPS2_table.to_latex(index=False))"
   ]
  },
  {
   "cell_type": "code",
   "execution_count": 7,
   "metadata": {
    "execution": {
     "iopub.execute_input": "2024-06-03T19:31:24.264182Z",
     "iopub.status.busy": "2024-06-03T19:31:24.263756Z",
     "iopub.status.idle": "2024-06-03T19:31:24.272669Z",
     "shell.execute_reply": "2024-06-03T19:31:24.272137Z"
    }
   },
   "outputs": [
    {
     "name": "stdout",
     "output_type": "stream",
     "text": [
      "\\begin{tabular}{rlllll}\n",
      "\\toprule\n",
      "Gaia DR3 ID & RA & Dec & l & b & V Magnitude \\\\\n",
      "\\midrule\n",
      "1340991529725341056 & 17h11m40.84s & 37d49m55.08s & 61.75032 & 35.17462 & 10.59 \\\\\n",
      "1342299192648782592 & 17h39m36.23s & 37d10m48.77s & 62.26064 & 29.61662 & 8.36 \\\\\n",
      "1400094505966392704 & 16h07m25.17s & 48d41m56.60s & 76.33974 & 46.71623 & 10.93 \\\\\n",
      "1423516852416948224 & 16h14m57.15s & 49d46m03.04s & 77.50137 & 45.30106 & 10.98 \\\\\n",
      "1622478459328957696 & 15h57m27.57s & 56d40m02.77s & 88.01797 & 45.85473 & 10.68 \\\\\n",
      "1644643411153918336 & 15h39m11.90s & 66d48m13.65s & 101.89417 & 42.83402 & 10.31 \\\\\n",
      "2026374267595492096 & 19h28m53.81s & 28d22m21.21s & 62.28341 & 5.12122 & 10.29 \\\\\n",
      "2051426296414984960 & 19h31m09.21s & 36d09m01.42s & 69.4295 & 8.34166 & 10.2 \\\\\n",
      "2077092436860985728 & 19h42m06.28s & 41d41m23.01s & 75.38792 & 9.06408 & 10.62 \\\\\n",
      "2083249324019906048 & 20h20m38.47s & 46d26m29.55s & 83.09395 & 5.60762 & 10.81 \\\\\n",
      "2104987557947509888 & 18h54m17.01s & 42d59m04.32s & 72.80069 & 17.62626 & 9.93 \\\\\n",
      "2107126146721252864 & 18h59m16.93s & 45d06m31.93s & 75.21886 & 17.55053 & 10.89 \\\\\n",
      "2126182469941128960 & 19h26m03.33s & 44d21m35.14s & 76.45543 & 12.88873 & 10.27 \\\\\n",
      "2142082129629510272 & 19h32m25.97s & 56d36m25.13s & 88.4213 & 17.07098 & 10.32 \\\\\n",
      "2203746967971153024 & 21h39m15.35s & 60d17m05.38s & 101.18362 & 5.802 & 10.32 \\\\\n",
      "\\bottomrule\n",
      "\\end{tabular}\n",
      "\n"
     ]
    }
   ],
   "source": [
    "print(LOPN1_table.to_latex(index=False))"
   ]
  },
  {
   "cell_type": "markdown",
   "metadata": {},
   "source": [
    "## SAVE SPECIAL TARGET LIST"
   ]
  },
  {
   "cell_type": "code",
   "execution_count": 8,
   "metadata": {
    "execution": {
     "iopub.execute_input": "2024-06-03T19:31:24.275853Z",
     "iopub.status.busy": "2024-06-03T19:31:24.275585Z",
     "iopub.status.idle": "2024-06-03T19:31:26.767131Z",
     "shell.execute_reply": "2024-06-03T19:31:26.766702Z"
    }
   },
   "outputs": [],
   "source": [
    "LOPS2 = pd.read_csv(get_abspath() + f\"data/processed/LOPS2_targets.csv\")\n",
    "LOPN1 = pd.read_csv(get_abspath() + f\"data/processed/LOPN1_targets.csv\")\n",
    "\n",
    "LOPN1[\"Field\"] = \"LOPN1\"\n",
    "LOPS2[\"Field\"] = \"LOPS2\"\n",
    "\n",
    "fields = pd.concat([LOPS2, LOPN1])\n",
    "fields = filter_valid_targets(fields).rename(columns={\"gaiaV\": \"Magnitude_V\"})\n",
    "p1_sample = filter_p1_targets(fields).rename(columns={\"Magnitude_V\": \"gaiaV\"})\n",
    "\n",
    "special_targets = special_targets = p1_sample[p1_sample[\"Population\"] == \"Halo\"]\n",
    "special_targets.to_csv(\n",
    "    get_abspath() + f\"data/processed/special_target_list.csv\", index=False\n",
    ")"
   ]
  }
 ],
 "metadata": {
  "kernelspec": {
   "display_name": "plato",
   "language": "python",
   "name": "python3"
  },
  "language_info": {
   "codemirror_mode": {
    "name": "ipython",
    "version": 3
   },
   "file_extension": ".py",
   "mimetype": "text/x-python",
   "name": "python",
   "nbconvert_exporter": "python",
   "pygments_lexer": "ipython3",
   "version": "3.12.2"
  }
 },
 "nbformat": 4,
 "nbformat_minor": 2
}
