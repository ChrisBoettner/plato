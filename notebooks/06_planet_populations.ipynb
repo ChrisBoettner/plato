{
 "cells": [
  {
   "cell_type": "code",
   "execution_count": 1,
   "metadata": {
    "execution": {
     "iopub.execute_input": "2024-06-03T19:31:01.222219Z",
     "iopub.status.busy": "2024-06-03T19:31:01.222061Z",
     "iopub.status.idle": "2024-06-03T19:31:01.236952Z",
     "shell.execute_reply": "2024-06-03T19:31:01.236596Z"
    }
   },
   "outputs": [],
   "source": [
    "%load_ext autoreload\n",
    "%autoreload 2"
   ]
  },
  {
   "cell_type": "code",
   "execution_count": 2,
   "metadata": {
    "execution": {
     "iopub.execute_input": "2024-06-03T19:31:01.239052Z",
     "iopub.status.busy": "2024-06-03T19:31:01.238896Z",
     "iopub.status.idle": "2024-06-03T19:31:20.131635Z",
     "shell.execute_reply": "2024-06-03T19:31:20.131168Z"
    }
   },
   "outputs": [],
   "source": [
    "from collections import defaultdict\n",
    "\n",
    "import matplotlib.pyplot as plt\n",
    "import pandas as pd\n",
    "import seaborn as sns\n",
    "\n",
    "from plato.planets.metrics import PlanetPopulationMetrics\n",
    "from plato.planets.populations import PopulationModel\n",
    "from plato.stars import filter_valid_targets\n",
    "from plato.visualisation import FigureProcessor, get_palette, set_plot_defaults\n",
    "from plato.utils import get_abspath"
   ]
  },
  {
   "cell_type": "code",
   "execution_count": 3,
   "metadata": {
    "execution": {
     "iopub.execute_input": "2024-06-03T19:31:20.134087Z",
     "iopub.status.busy": "2024-06-03T19:31:20.133905Z",
     "iopub.status.idle": "2024-06-03T19:31:20.237447Z",
     "shell.execute_reply": "2024-06-03T19:31:20.237068Z"
    }
   },
   "outputs": [],
   "source": [
    "set_plot_defaults()\n",
    "\n",
    "figure_directory = f\"/figures/06_planet_populations/\"\n",
    "save = True"
   ]
  },
  {
   "cell_type": "code",
   "execution_count": 4,
   "metadata": {
    "execution": {
     "iopub.execute_input": "2024-06-03T19:31:20.239728Z",
     "iopub.status.busy": "2024-06-03T19:31:20.239566Z",
     "iopub.status.idle": "2024-06-03T19:31:23.949826Z",
     "shell.execute_reply": "2024-06-03T19:31:23.948613Z"
    }
   },
   "outputs": [],
   "source": [
    "LOPS2 = pd.read_csv(get_abspath() + f\"data/processed/LOPS2_targets.csv\")\n",
    "LOPN1 = pd.read_csv(get_abspath() + f\"data/processed/LOPN1_targets.csv\")\n",
    "\n",
    "fields = pd.concat([LOPS2, LOPN1])\n",
    "fields = filter_valid_targets(fields)\n",
    "fields = fields[\n",
    "    [\n",
    "        \"Radius\",\n",
    "        \"Mass\",\n",
    "        \"[Fe/H]\",\n",
    "        \"[Fe/H]_apogee\",\n",
    "        \"[Fe/H]_galah\",\n",
    "        \"u1\",\n",
    "        \"u2\",\n",
    "        \"gaiaV\",\n",
    "        \"n_cameras\",\n",
    "        \"Population\",\n",
    "    ]\n",
    "]\n",
    "\n",
    "fields[\"cos_i\"] = 0\n",
    "fields[\"sigma_star\"] = 10e-6\n",
    "fields = fields.rename(\n",
    "    columns={\n",
    "        \"Radius\": \"R_star\",\n",
    "        \"Mass\": \"M_star\",\n",
    "        \"gaiaV\": \"Magnitude_V\",\n",
    "    }\n",
    ")"
   ]
  },
  {
   "cell_type": "code",
   "execution_count": 5,
   "metadata": {
    "execution": {
     "iopub.execute_input": "2024-06-03T19:31:23.954829Z",
     "iopub.status.busy": "2024-06-03T19:31:23.954446Z",
     "iopub.status.idle": "2024-06-03T19:31:23.997785Z",
     "shell.execute_reply": "2024-06-03T19:31:23.997343Z"
    }
   },
   "outputs": [],
   "source": [
    "metrics = PlanetPopulationMetrics()"
   ]
  },
  {
   "cell_type": "markdown",
   "metadata": {},
   "source": [
    "## INDIVIDUAL POPULATION MOCKS"
   ]
  },
  {
   "cell_type": "code",
   "execution_count": 6,
   "metadata": {
    "execution": {
     "iopub.execute_input": "2024-06-03T19:31:24.000495Z",
     "iopub.status.busy": "2024-06-03T19:31:24.000258Z",
     "iopub.status.idle": "2024-06-03T19:34:29.182752Z",
     "shell.execute_reply": "2024-06-03T19:34:29.182213Z"
    }
   },
   "outputs": [],
   "source": [
    "for num_embryos in [10, 20, 50, 100]:\n",
    "    population_model = PopulationModel(\n",
    "        fields,\n",
    "        num_embryos=num_embryos,\n",
    "        additional_columns=[\"Population\"],\n",
    "    )\n",
    "\n",
    "    mock = population_model.create_mock_observation(\n",
    "        remove_zeros=False,\n",
    "        draw_sample=False,\n",
    "        add_planet_category=True,\n",
    "        add_detection_efficiency=True,\n",
    "        result_format=\"full\",\n",
    "        additional_columns=[\"Population\"],\n",
    "    )\n",
    "    mock.to_csv(\n",
    "        get_abspath() + f\"data/interim/mock_populations/num_embryos={num_embryos}.csv\",\n",
    "        index=False,\n",
    "    )"
   ]
  },
  {
   "cell_type": "code",
   "execution_count": 7,
   "metadata": {
    "execution": {
     "iopub.execute_input": "2024-06-03T19:34:29.186157Z",
     "iopub.status.busy": "2024-06-03T19:34:29.185925Z",
     "iopub.status.idle": "2024-06-03T19:34:42.768642Z",
     "shell.execute_reply": "2024-06-03T19:34:42.768129Z"
    }
   },
   "outputs": [],
   "source": [
    "mocks = {}\n",
    "for num_embryos in [10, 20, 50, 100]:\n",
    "    mocks[num_embryos] = pd.read_csv(\n",
    "        get_abspath() + f\"data/interim/mock_populations/num_embryos={num_embryos}.csv\"\n",
    "    )"
   ]
  },
  {
   "cell_type": "code",
   "execution_count": 8,
   "metadata": {
    "execution": {
     "iopub.execute_input": "2024-06-03T19:34:42.771097Z",
     "iopub.status.busy": "2024-06-03T19:34:42.770933Z",
     "iopub.status.idle": "2024-06-03T19:34:43.364721Z",
     "shell.execute_reply": "2024-06-03T19:34:43.363949Z"
    }
   },
   "outputs": [
    {
     "data": {
      "text/html": [
       "<div>\n",
       "<style scoped>\n",
       "    .dataframe tbody tr th:only-of-type {\n",
       "        vertical-align: middle;\n",
       "    }\n",
       "\n",
       "    .dataframe tbody tr th {\n",
       "        vertical-align: top;\n",
       "    }\n",
       "\n",
       "    .dataframe thead th {\n",
       "        text-align: right;\n",
       "    }\n",
       "</style>\n",
       "<table border=\"1\" class=\"dataframe\">\n",
       "  <thead>\n",
       "    <tr style=\"text-align: right;\">\n",
       "      <th></th>\n",
       "      <th>Occurence Rate</th>\n",
       "    </tr>\n",
       "    <tr>\n",
       "      <th>Number of Embryos</th>\n",
       "      <th></th>\n",
       "    </tr>\n",
       "  </thead>\n",
       "  <tbody>\n",
       "    <tr>\n",
       "      <th>10</th>\n",
       "      <td>2.776175</td>\n",
       "    </tr>\n",
       "    <tr>\n",
       "      <th>20</th>\n",
       "      <td>3.700526</td>\n",
       "    </tr>\n",
       "    <tr>\n",
       "      <th>50</th>\n",
       "      <td>4.483101</td>\n",
       "    </tr>\n",
       "    <tr>\n",
       "      <th>100</th>\n",
       "      <td>4.349706</td>\n",
       "    </tr>\n",
       "  </tbody>\n",
       "</table>\n",
       "</div>"
      ],
      "text/plain": [
       "                   Occurence Rate\n",
       "Number of Embryos                \n",
       "10                       2.776175\n",
       "20                       3.700526\n",
       "50                       4.483101\n",
       "100                      4.349706"
      ]
     },
     "execution_count": 8,
     "metadata": {},
     "output_type": "execute_result"
    }
   ],
   "source": [
    "# overall occurence rates, for P < 500 days\n",
    "occurence_rates = {}\n",
    "for num_embryos, mock in mocks.items():\n",
    "    mock = mock.copy()[mock[\"Porb\"] < 500]\n",
    "    occurence_rates[num_embryos] = len(mock) / len(fields)\n",
    "pd.DataFrame.from_dict(\n",
    "    occurence_rates, orient=\"index\", columns=[\"Occurence Rate\"]\n",
    ").rename_axis(\"Number of Embryos\")"
   ]
  },
  {
   "cell_type": "code",
   "execution_count": 9,
   "metadata": {
    "execution": {
     "iopub.execute_input": "2024-06-03T19:34:43.375193Z",
     "iopub.status.busy": "2024-06-03T19:34:43.374774Z",
     "iopub.status.idle": "2024-06-03T19:34:43.509382Z",
     "shell.execute_reply": "2024-06-03T19:34:43.509021Z"
    }
   },
   "outputs": [
    {
     "data": {
      "text/html": [
       "<div>\n",
       "<style scoped>\n",
       "    .dataframe tbody tr th:only-of-type {\n",
       "        vertical-align: middle;\n",
       "    }\n",
       "\n",
       "    .dataframe tbody tr th {\n",
       "        vertical-align: top;\n",
       "    }\n",
       "\n",
       "    .dataframe thead th {\n",
       "        text-align: right;\n",
       "    }\n",
       "</style>\n",
       "<table border=\"1\" class=\"dataframe\">\n",
       "  <thead>\n",
       "    <tr style=\"text-align: right;\">\n",
       "      <th></th>\n",
       "      <th>Median Radius</th>\n",
       "    </tr>\n",
       "    <tr>\n",
       "      <th>Number of Embryos</th>\n",
       "      <th></th>\n",
       "    </tr>\n",
       "  </thead>\n",
       "  <tbody>\n",
       "    <tr>\n",
       "      <th>10</th>\n",
       "      <td>3.219965</td>\n",
       "    </tr>\n",
       "    <tr>\n",
       "      <th>20</th>\n",
       "      <td>2.933363</td>\n",
       "    </tr>\n",
       "    <tr>\n",
       "      <th>50</th>\n",
       "      <td>2.855522</td>\n",
       "    </tr>\n",
       "    <tr>\n",
       "      <th>100</th>\n",
       "      <td>2.062280</td>\n",
       "    </tr>\n",
       "  </tbody>\n",
       "</table>\n",
       "</div>"
      ],
      "text/plain": [
       "                   Median Radius\n",
       "Number of Embryos               \n",
       "10                      3.219965\n",
       "20                      2.933363\n",
       "50                      2.855522\n",
       "100                     2.062280"
      ]
     },
     "execution_count": 9,
     "metadata": {},
     "output_type": "execute_result"
    }
   ],
   "source": [
    "# median size of planets\n",
    "average_sizes = {}\n",
    "for num_embryos, mock in mocks.items():\n",
    "    average_sizes[num_embryos] = mock[\"R_planet\"].median()\n",
    "pd.DataFrame.from_dict(\n",
    "    average_sizes, orient=\"index\", columns=[\"Median Radius\"]\n",
    ").rename_axis(\"Number of Embryos\")"
   ]
  }
 ],
 "metadata": {
  "kernelspec": {
   "display_name": "plato",
   "language": "python",
   "name": "python3"
  },
  "language_info": {
   "codemirror_mode": {
    "name": "ipython",
    "version": 3
   },
   "file_extension": ".py",
   "mimetype": "text/x-python",
   "name": "python",
   "nbconvert_exporter": "python",
   "pygments_lexer": "ipython3",
   "version": "3.12.2"
  }
 },
 "nbformat": 4,
 "nbformat_minor": 2
}
