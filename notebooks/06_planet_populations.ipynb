{
 "cells": [
  {
   "cell_type": "code",
   "execution_count": 2,
   "metadata": {},
   "outputs": [],
   "source": [
    "%load_ext autoreload\n",
    "%autoreload 2"
   ]
  },
  {
   "cell_type": "code",
   "execution_count": 3,
   "metadata": {},
   "outputs": [],
   "source": [
    "import matplotlib.pyplot as plt\n",
    "import numpy as np\n",
    "import pandas as pd\n",
    "import seaborn as sns\n",
    "\n",
    "from plato.planets.populations import PopulationModel\n",
    "from plato.planets.metrics import PlanetPopulationMetrics\n",
    "from plato.stars import filter_p1_targets, filter_valid_targets\n",
    "from plato.visualisation import (\n",
    "    FigureProcessor,\n",
    "    contour_plot,\n",
    "    get_earth_marker,\n",
    "    get_palette,\n",
    "    set_plot_defaults,\n",
    ")"
   ]
  },
  {
   "cell_type": "code",
   "execution_count": 4,
   "metadata": {},
   "outputs": [],
   "source": [
    "set_plot_defaults()\n",
    "\n",
    "figure_directory = f\"../figures/06_planet_populations/\"\n",
    "save = True"
   ]
  },
  {
   "cell_type": "code",
   "execution_count": 5,
   "metadata": {},
   "outputs": [],
   "source": [
    "LOPS2 = pd.read_csv(f\"../data/processed/LOPS2_targets.csv\")\n",
    "LOPN1 = pd.read_csv(f\"../data/processed/LOPN1_targets.csv\")\n",
    "\n",
    "fields = pd.concat([LOPS2, LOPN1])\n",
    "fields = filter_valid_targets(fields)\n",
    "fields = fields[\n",
    "    [\n",
    "        \"Radius\",\n",
    "        \"Mass\",\n",
    "        \"[Fe/H]\",\n",
    "        \"u1\",\n",
    "        \"u2\",\n",
    "        \"gaiaV\",\n",
    "        \"n_cameras\",\n",
    "        \"Population\",\n",
    "    ]\n",
    "]\n",
    "\n",
    "fields[\"cos_i\"] = 0\n",
    "fields[\"sigma_star\"] = 10e-6\n",
    "fields = fields.rename(\n",
    "    columns={\n",
    "        \"Radius\": \"R_star\",\n",
    "        \"Mass\": \"M_star\",\n",
    "        \"gaiaV\": \"Magnitude_V\",\n",
    "    }\n",
    ")\n",
    "\n",
    "p1_sample = filter_p1_targets(fields)"
   ]
  },
  {
   "cell_type": "code",
   "execution_count": 7,
   "metadata": {},
   "outputs": [],
   "source": [
    "metrics = PlanetPopulationMetrics()\n",
    "num_mocks = 100"
   ]
  },
  {
   "cell_type": "code",
   "execution_count": 7,
   "metadata": {},
   "outputs": [
    {
     "name": "stdout",
     "output_type": "stream",
     "text": [
      "Number of embryos: 10, Component: Halo\n",
      "Number of embryos: 10, Component: Thick Disk\n"
     ]
    },
    {
     "ename": "",
     "evalue": "",
     "output_type": "error",
     "traceback": [
      "\u001b[1;31mThe Kernel crashed while executing code in the current cell or a previous cell. \n",
      "\u001b[1;31mPlease review the code in the cell(s) to identify a possible cause of the failure. \n",
      "\u001b[1;31mClick <a href='https://aka.ms/vscodeJupyterKernelCrash'>here</a> for more info. \n",
      "\u001b[1;31mView Jupyter <a href='command:jupyter.viewOutput'>log</a> for further details."
     ]
    }
   ],
   "source": [
    "results = {}\n",
    "\n",
    "for num_embryos in [10, 20, 30, 100]:\n",
    "    for component in [\"Halo\", \"Thick Disk\", \"Thin Disk\", None]:\n",
    "\n",
    "        print(f\"Number of embryos: {num_embryos}, Component: {component}\")\n",
    "        model = PopulationModel(\n",
    "            fields,\n",
    "            num_embryos=num_embryos,\n",
    "            additional_columns=[\"Population\"],\n",
    "        )\n",
    "\n",
    "        mock_populations = []\n",
    "        for i in range(num_mocks):\n",
    "            mock_populations.append(\n",
    "                model.create_mock_population(\n",
    "                    add_planet_category=True,\n",
    "                    additional_columns=[\"Population\"],\n",
    "                )\n",
    "            )\n",
    "\n",
    "        del model\n",
    "\n",
    "        results[num_embryos, component] = metrics.calculate_agg_metrics(\n",
    "            mock_populations,\n",
    "            number_of_systems=len(fields),\n",
    "            population=component,\n",
    "        )"
   ]
  },
  {
   "cell_type": "code",
   "execution_count": 18,
   "metadata": {},
   "outputs": [],
   "source": [
    "k = o.calculate_metrics(pop, len(fields)).reindex(\n",
    "    [\n",
    "        \"Earth\",\n",
    "        \"Super-Earth\",\n",
    "        \"Neptunian\",\n",
    "        \"Sub-Giant\",\n",
    "        \"Giant\",\n",
    "    ]\n",
    ")"
   ]
  },
  {
   "cell_type": "code",
   "execution_count": 6,
   "metadata": {},
   "outputs": [],
   "source": [
    "model = PopulationModel(\n",
    "    fields,\n",
    "    num_embryos=100,\n",
    "    additional_columns=[\"Population\"],\n",
    ")"
   ]
  },
  {
   "cell_type": "code",
   "execution_count": 8,
   "metadata": {},
   "outputs": [
    {
     "ename": "",
     "evalue": "",
     "output_type": "error",
     "traceback": [
      "\u001b[1;31mThe Kernel crashed while executing code in the current cell or a previous cell. \n",
      "\u001b[1;31mPlease review the code in the cell(s) to identify a possible cause of the failure. \n",
      "\u001b[1;31mClick <a href='https://aka.ms/vscodeJupyterKernelCrash'>here</a> for more info. \n",
      "\u001b[1;31mView Jupyter <a href='command:jupyter.viewOutput'>log</a> for further details."
     ]
    }
   ],
   "source": [
    "mock_populations = []\n",
    "for i in range(num_mocks):\n",
    "    mock_populations.append(\n",
    "        model.create_mock_population(\n",
    "            add_planet_category=True,\n",
    "            additional_columns=[\"Population\"],\n",
    "        )\n",
    "    )"
   ]
  },
  {
   "cell_type": "code",
   "execution_count": null,
   "metadata": {},
   "outputs": [],
   "source": []
  }
 ],
 "metadata": {
  "kernelspec": {
   "display_name": "plato",
   "language": "python",
   "name": "python3"
  },
  "language_info": {
   "codemirror_mode": {
    "name": "ipython",
    "version": 3
   },
   "file_extension": ".py",
   "mimetype": "text/x-python",
   "name": "python",
   "nbconvert_exporter": "python",
   "pygments_lexer": "ipython3",
   "version": "3.12.2"
  }
 },
 "nbformat": 4,
 "nbformat_minor": 2
}
