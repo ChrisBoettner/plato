{
 "cells": [
  {
   "cell_type": "code",
   "execution_count": 1,
   "metadata": {},
   "outputs": [],
   "source": [
    "%load_ext autoreload\n",
    "%autoreload 2"
   ]
  },
  {
   "cell_type": "code",
   "execution_count": 2,
   "metadata": {},
   "outputs": [],
   "source": [
    "from collections import defaultdict\n",
    "\n",
    "import matplotlib.pyplot as plt\n",
    "import pandas as pd\n",
    "import seaborn as sns\n",
    "\n",
    "from plato.planets.metrics import PlanetPopulationMetrics\n",
    "from plato.planets.populations import PopulationModel\n",
    "from plato.stars import filter_valid_targets\n",
    "from plato.visualisation import FigureProcessor, get_palette, set_plot_defaults\n",
    "from plato.utils import get_abspath"
   ]
  },
  {
   "cell_type": "code",
   "execution_count": 3,
   "metadata": {},
   "outputs": [],
   "source": [
    "set_plot_defaults()\n",
    "\n",
    "figure_directory = f\"/figures/06_planet_populations/\"\n",
    "save = True"
   ]
  },
  {
   "cell_type": "code",
   "execution_count": 4,
   "metadata": {},
   "outputs": [],
   "source": [
    "LOPS2 = pd.read_csv(get_abspath() + f\"data/processed/LOPS2_targets.csv\")\n",
    "LOPN1 = pd.read_csv(get_abspath() + f\"data/processed/LOPN1_targets.csv\")\n",
    "\n",
    "fields = pd.concat([LOPS2, LOPN1])\n",
    "fields = filter_valid_targets(fields)\n",
    "fields = fields[\n",
    "    [\n",
    "        \"Radius\",\n",
    "        \"Mass\",\n",
    "        \"[Fe/H]\",\n",
    "        \"[Fe/H]_apogee\",\n",
    "        \"[Fe/H]_galah\",\n",
    "        \"u1\",\n",
    "        \"u2\",\n",
    "        \"gaiaV\",\n",
    "        \"n_cameras\",\n",
    "        \"Population\",\n",
    "    ]\n",
    "]\n",
    "\n",
    "fields[\"cos_i\"] = 0\n",
    "fields[\"sigma_star\"] = 10e-6\n",
    "fields = fields.rename(\n",
    "    columns={\n",
    "        \"Radius\": \"R_star\",\n",
    "        \"Mass\": \"M_star\",\n",
    "        \"gaiaV\": \"Magnitude_V\",\n",
    "    }\n",
    ")"
   ]
  },
  {
   "cell_type": "code",
   "execution_count": 5,
   "metadata": {},
   "outputs": [],
   "source": [
    "metrics = PlanetPopulationMetrics()"
   ]
  },
  {
   "cell_type": "markdown",
   "metadata": {},
   "source": [
    "## INDIVIDUAL POPULATION MOCKS"
   ]
  },
  {
   "cell_type": "code",
   "execution_count": 6,
   "metadata": {},
   "outputs": [],
   "source": [
    "for num_embryos in [10, 20, 50, 100]:\n",
    "    population_model = PopulationModel(\n",
    "        fields,\n",
    "        num_embryos=num_embryos,\n",
    "        additional_columns=[\"Population\"],\n",
    "    )\n",
    "\n",
    "    mock = population_model.create_mock_observation(\n",
    "        remove_zeros=False,\n",
    "        draw_sample=False,\n",
    "        add_planet_category=True,\n",
    "        add_detection_efficiency=True,\n",
    "        result_format=\"full\",\n",
    "        additional_columns=[\"Population\"],\n",
    "    )\n",
    "    mock.to_csv(\n",
    "        get_abspath() + f\"data/interim/mock_populations/num_embryos={num_embryos}.csv\",\n",
    "        index=False,\n",
    "    )"
   ]
  },
  {
   "cell_type": "code",
   "execution_count": 7,
   "metadata": {},
   "outputs": [],
   "source": [
    "mocks = {}\n",
    "for num_embryos in [10, 20, 50, 100]:\n",
    "    mocks[num_embryos] = pd.read_csv(\n",
    "        get_abspath() + f\"data/interim/mock_populations/num_embryos={num_embryos}.csv\"\n",
    "    )"
   ]
  },
  {
   "cell_type": "code",
   "execution_count": 8,
   "metadata": {},
   "outputs": [
    {
     "data": {
      "text/html": [
       "<div>\n",
       "<style scoped>\n",
       "    .dataframe tbody tr th:only-of-type {\n",
       "        vertical-align: middle;\n",
       "    }\n",
       "\n",
       "    .dataframe tbody tr th {\n",
       "        vertical-align: top;\n",
       "    }\n",
       "\n",
       "    .dataframe thead th {\n",
       "        text-align: right;\n",
       "    }\n",
       "</style>\n",
       "<table border=\"1\" class=\"dataframe\">\n",
       "  <thead>\n",
       "    <tr style=\"text-align: right;\">\n",
       "      <th></th>\n",
       "      <th>Occurence Rate</th>\n",
       "    </tr>\n",
       "    <tr>\n",
       "      <th>Number of Embryos</th>\n",
       "      <th></th>\n",
       "    </tr>\n",
       "  </thead>\n",
       "  <tbody>\n",
       "    <tr>\n",
       "      <th>10</th>\n",
       "      <td>2.774788</td>\n",
       "    </tr>\n",
       "    <tr>\n",
       "      <th>20</th>\n",
       "      <td>3.716455</td>\n",
       "    </tr>\n",
       "    <tr>\n",
       "      <th>50</th>\n",
       "      <td>4.480418</td>\n",
       "    </tr>\n",
       "    <tr>\n",
       "      <th>100</th>\n",
       "      <td>4.349899</td>\n",
       "    </tr>\n",
       "  </tbody>\n",
       "</table>\n",
       "</div>"
      ],
      "text/plain": [
       "                   Occurence Rate\n",
       "Number of Embryos                \n",
       "10                       2.774788\n",
       "20                       3.716455\n",
       "50                       4.480418\n",
       "100                      4.349899"
      ]
     },
     "execution_count": 8,
     "metadata": {},
     "output_type": "execute_result"
    }
   ],
   "source": [
    "# overall occurence rates, for P < 500 days\n",
    "occurence_rates = {}\n",
    "for num_embryos, mock in mocks.items():\n",
    "    mock = mock.copy()[mock[\"Porb\"] < 500]\n",
    "    occurence_rates[num_embryos] = len(mock) / len(fields)\n",
    "pd.DataFrame.from_dict(\n",
    "    occurence_rates, orient=\"index\", columns=[\"Occurence Rate\"]\n",
    ").rename_axis(\"Number of Embryos\")"
   ]
  },
  {
   "cell_type": "code",
   "execution_count": 9,
   "metadata": {},
   "outputs": [
    {
     "data": {
      "text/html": [
       "<div>\n",
       "<style scoped>\n",
       "    .dataframe tbody tr th:only-of-type {\n",
       "        vertical-align: middle;\n",
       "    }\n",
       "\n",
       "    .dataframe tbody tr th {\n",
       "        vertical-align: top;\n",
       "    }\n",
       "\n",
       "    .dataframe thead th {\n",
       "        text-align: right;\n",
       "    }\n",
       "</style>\n",
       "<table border=\"1\" class=\"dataframe\">\n",
       "  <thead>\n",
       "    <tr style=\"text-align: right;\">\n",
       "      <th></th>\n",
       "      <th>Median Radius</th>\n",
       "    </tr>\n",
       "    <tr>\n",
       "      <th>Number of Embryos</th>\n",
       "      <th></th>\n",
       "    </tr>\n",
       "  </thead>\n",
       "  <tbody>\n",
       "    <tr>\n",
       "      <th>10</th>\n",
       "      <td>3.195686</td>\n",
       "    </tr>\n",
       "    <tr>\n",
       "      <th>20</th>\n",
       "      <td>2.942647</td>\n",
       "    </tr>\n",
       "    <tr>\n",
       "      <th>50</th>\n",
       "      <td>2.845608</td>\n",
       "    </tr>\n",
       "    <tr>\n",
       "      <th>100</th>\n",
       "      <td>2.060101</td>\n",
       "    </tr>\n",
       "  </tbody>\n",
       "</table>\n",
       "</div>"
      ],
      "text/plain": [
       "                   Median Radius\n",
       "Number of Embryos               \n",
       "10                      3.195686\n",
       "20                      2.942647\n",
       "50                      2.845608\n",
       "100                     2.060101"
      ]
     },
     "execution_count": 9,
     "metadata": {},
     "output_type": "execute_result"
    }
   ],
   "source": [
    "# median size of planets\n",
    "average_sizes = {}\n",
    "for num_embryos, mock in mocks.items():\n",
    "    average_sizes[num_embryos] = mock[\"R_planet\"].median()\n",
    "pd.DataFrame.from_dict(\n",
    "    average_sizes, orient=\"index\", columns=[\"Median Radius\"]\n",
    ").rename_axis(\"Number of Embryos\")"
   ]
  }
 ],
 "metadata": {
  "kernelspec": {
   "display_name": "plato",
   "language": "python",
   "name": "python3"
  },
  "language_info": {
   "codemirror_mode": {
    "name": "ipython",
    "version": 3
   },
   "file_extension": ".py",
   "mimetype": "text/x-python",
   "name": "python",
   "nbconvert_exporter": "python",
   "pygments_lexer": "ipython3",
   "version": "3.12.2"
  }
 },
 "nbformat": 4,
 "nbformat_minor": 2
}
