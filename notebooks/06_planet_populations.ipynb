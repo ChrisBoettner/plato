{
 "cells": [
  {
   "cell_type": "code",
   "execution_count": 1,
   "metadata": {
    "execution": {
     "iopub.execute_input": "2024-05-31T14:45:07.077552Z",
     "iopub.status.busy": "2024-05-31T14:45:07.077396Z",
     "iopub.status.idle": "2024-05-31T14:45:07.105684Z",
     "shell.execute_reply": "2024-05-31T14:45:07.105338Z"
    }
   },
   "outputs": [],
   "source": [
    "%load_ext autoreload\n",
    "%autoreload 2"
   ]
  },
  {
   "cell_type": "code",
   "execution_count": 2,
   "metadata": {
    "execution": {
     "iopub.execute_input": "2024-05-31T14:45:07.107726Z",
     "iopub.status.busy": "2024-05-31T14:45:07.107573Z",
     "iopub.status.idle": "2024-05-31T14:45:19.772067Z",
     "shell.execute_reply": "2024-05-31T14:45:19.771619Z"
    }
   },
   "outputs": [],
   "source": [
    "from collections import defaultdict\n",
    "\n",
    "import matplotlib.pyplot as plt\n",
    "import pandas as pd\n",
    "import seaborn as sns\n",
    "\n",
    "from plato.planets.metrics import PlanetPopulationMetrics\n",
    "from plato.planets.populations import PopulationModel\n",
    "from plato.stars import filter_valid_targets\n",
    "from plato.visualisation import FigureProcessor, get_palette, set_plot_defaults\n",
    "from plato.utils import get_abspath"
   ]
  },
  {
   "cell_type": "code",
   "execution_count": 3,
   "metadata": {
    "execution": {
     "iopub.execute_input": "2024-05-31T14:45:19.774575Z",
     "iopub.status.busy": "2024-05-31T14:45:19.774402Z",
     "iopub.status.idle": "2024-05-31T14:45:19.802825Z",
     "shell.execute_reply": "2024-05-31T14:45:19.802469Z"
    }
   },
   "outputs": [],
   "source": [
    "set_plot_defaults()\n",
    "\n",
    "figure_directory = f\"/figures/06_planet_populations/\"\n",
    "save = True"
   ]
  },
  {
   "cell_type": "code",
   "execution_count": 4,
   "metadata": {
    "execution": {
     "iopub.execute_input": "2024-05-31T14:45:19.804869Z",
     "iopub.status.busy": "2024-05-31T14:45:19.804708Z",
     "iopub.status.idle": "2024-05-31T14:45:21.866905Z",
     "shell.execute_reply": "2024-05-31T14:45:21.866342Z"
    }
   },
   "outputs": [],
   "source": [
    "LOPS2 = pd.read_csv(get_abspath() + f\"data/processed/LOPS2_targets.csv\")\n",
    "LOPN1 = pd.read_csv(get_abspath() + f\"data/processed/LOPN1_targets.csv\")\n",
    "\n",
    "fields = pd.concat([LOPS2, LOPN1])\n",
    "fields = filter_valid_targets(fields)\n",
    "fields = fields[\n",
    "    [\n",
    "        \"Radius\",\n",
    "        \"Mass\",\n",
    "        \"[Fe/H]\",\n",
    "        \"[Fe/H]_apogee\",\n",
    "        \"[Fe/H]_galah\",\n",
    "        \"u1\",\n",
    "        \"u2\",\n",
    "        \"gaiaV\",\n",
    "        \"n_cameras\",\n",
    "        \"Population\",\n",
    "    ]\n",
    "]\n",
    "\n",
    "fields[\"cos_i\"] = 0\n",
    "fields[\"sigma_star\"] = 10e-6\n",
    "fields = fields.rename(\n",
    "    columns={\n",
    "        \"Radius\": \"R_star\",\n",
    "        \"Mass\": \"M_star\",\n",
    "        \"gaiaV\": \"Magnitude_V\",\n",
    "    }\n",
    ")"
   ]
  },
  {
   "cell_type": "code",
   "execution_count": 5,
   "metadata": {
    "execution": {
     "iopub.execute_input": "2024-05-31T14:45:21.869668Z",
     "iopub.status.busy": "2024-05-31T14:45:21.869485Z",
     "iopub.status.idle": "2024-05-31T14:45:21.900340Z",
     "shell.execute_reply": "2024-05-31T14:45:21.899967Z"
    }
   },
   "outputs": [],
   "source": [
    "metrics = PlanetPopulationMetrics()"
   ]
  },
  {
   "cell_type": "markdown",
   "metadata": {},
   "source": [
    "## INDIVIDUAL POPULATION MOCKS"
   ]
  },
  {
   "cell_type": "code",
   "execution_count": 6,
   "metadata": {
    "execution": {
     "iopub.execute_input": "2024-05-31T14:45:21.902358Z",
     "iopub.status.busy": "2024-05-31T14:45:21.902198Z",
     "iopub.status.idle": "2024-05-31T14:48:32.489533Z",
     "shell.execute_reply": "2024-05-31T14:48:32.489032Z"
    }
   },
   "outputs": [],
   "source": [
    "for num_embryos in [10, 20, 50, 100]:\n",
    "    population_model = PopulationModel(\n",
    "        fields,\n",
    "        num_embryos=num_embryos,\n",
    "        additional_columns=[\"Population\"],\n",
    "    )\n",
    "\n",
    "    mock = population_model.create_mock_observation(\n",
    "        remove_zeros=False,\n",
    "        draw_sample=False,\n",
    "        add_planet_category=True,\n",
    "        add_detection_efficiency=True,\n",
    "        result_format=\"full\",\n",
    "        additional_columns=[\"Population\"],\n",
    "    )\n",
    "    mock.to_csv(\n",
    "        get_abspath() + f\"data/interim/mock_populations/num_embryos={num_embryos}.csv\",\n",
    "        index=False,\n",
    "    )"
   ]
  },
  {
   "cell_type": "code",
   "execution_count": 7,
   "metadata": {
    "execution": {
     "iopub.execute_input": "2024-05-31T14:48:32.491923Z",
     "iopub.status.busy": "2024-05-31T14:48:32.491759Z",
     "iopub.status.idle": "2024-05-31T14:49:12.913596Z",
     "shell.execute_reply": "2024-05-31T14:49:12.912938Z"
    }
   },
   "outputs": [],
   "source": [
    "mocks = {}\n",
    "for num_embryos in [10, 20, 50, 100]:\n",
    "    mocks[num_embryos] = pd.read_csv(\n",
    "        get_abspath() + f\"data/interim/mock_populations/num_embryos={num_embryos}.csv\"\n",
    "    )"
   ]
  },
  {
   "cell_type": "code",
   "execution_count": 8,
   "metadata": {
    "execution": {
     "iopub.execute_input": "2024-05-31T14:49:12.916624Z",
     "iopub.status.busy": "2024-05-31T14:49:12.916420Z",
     "iopub.status.idle": "2024-05-31T14:49:13.328456Z",
     "shell.execute_reply": "2024-05-31T14:49:13.328013Z"
    }
   },
   "outputs": [
    {
     "data": {
      "text/html": [
       "<div>\n",
       "<style scoped>\n",
       "    .dataframe tbody tr th:only-of-type {\n",
       "        vertical-align: middle;\n",
       "    }\n",
       "\n",
       "    .dataframe tbody tr th {\n",
       "        vertical-align: top;\n",
       "    }\n",
       "\n",
       "    .dataframe thead th {\n",
       "        text-align: right;\n",
       "    }\n",
       "</style>\n",
       "<table border=\"1\" class=\"dataframe\">\n",
       "  <thead>\n",
       "    <tr style=\"text-align: right;\">\n",
       "      <th></th>\n",
       "      <th>Occurence Rate</th>\n",
       "    </tr>\n",
       "    <tr>\n",
       "      <th>Number of Embryos</th>\n",
       "      <th></th>\n",
       "    </tr>\n",
       "  </thead>\n",
       "  <tbody>\n",
       "    <tr>\n",
       "      <th>10</th>\n",
       "      <td>2.766786</td>\n",
       "    </tr>\n",
       "    <tr>\n",
       "      <th>20</th>\n",
       "      <td>3.708328</td>\n",
       "    </tr>\n",
       "    <tr>\n",
       "      <th>50</th>\n",
       "      <td>4.480714</td>\n",
       "    </tr>\n",
       "    <tr>\n",
       "      <th>100</th>\n",
       "      <td>4.349448</td>\n",
       "    </tr>\n",
       "  </tbody>\n",
       "</table>\n",
       "</div>"
      ],
      "text/plain": [
       "                   Occurence Rate\n",
       "Number of Embryos                \n",
       "10                       2.766786\n",
       "20                       3.708328\n",
       "50                       4.480714\n",
       "100                      4.349448"
      ]
     },
     "execution_count": 8,
     "metadata": {},
     "output_type": "execute_result"
    }
   ],
   "source": [
    "# overall occurence rates, for P < 500 days\n",
    "occurence_rates = {}\n",
    "for num_embryos, mock in mocks.items():\n",
    "    mock = mock.copy()[mock[\"Porb\"] < 500]\n",
    "    occurence_rates[num_embryos] = len(mock) / len(fields)\n",
    "pd.DataFrame.from_dict(\n",
    "    occurence_rates, orient=\"index\", columns=[\"Occurence Rate\"]\n",
    ").rename_axis(\"Number of Embryos\")"
   ]
  },
  {
   "cell_type": "code",
   "execution_count": 9,
   "metadata": {
    "execution": {
     "iopub.execute_input": "2024-05-31T14:49:13.347634Z",
     "iopub.status.busy": "2024-05-31T14:49:13.347450Z",
     "iopub.status.idle": "2024-05-31T14:49:13.480068Z",
     "shell.execute_reply": "2024-05-31T14:49:13.479672Z"
    }
   },
   "outputs": [
    {
     "data": {
      "text/html": [
       "<div>\n",
       "<style scoped>\n",
       "    .dataframe tbody tr th:only-of-type {\n",
       "        vertical-align: middle;\n",
       "    }\n",
       "\n",
       "    .dataframe tbody tr th {\n",
       "        vertical-align: top;\n",
       "    }\n",
       "\n",
       "    .dataframe thead th {\n",
       "        text-align: right;\n",
       "    }\n",
       "</style>\n",
       "<table border=\"1\" class=\"dataframe\">\n",
       "  <thead>\n",
       "    <tr style=\"text-align: right;\">\n",
       "      <th></th>\n",
       "      <th>Median Radius</th>\n",
       "    </tr>\n",
       "    <tr>\n",
       "      <th>Number of Embryos</th>\n",
       "      <th></th>\n",
       "    </tr>\n",
       "  </thead>\n",
       "  <tbody>\n",
       "    <tr>\n",
       "      <th>10</th>\n",
       "      <td>3.193340</td>\n",
       "    </tr>\n",
       "    <tr>\n",
       "      <th>20</th>\n",
       "      <td>2.933363</td>\n",
       "    </tr>\n",
       "    <tr>\n",
       "      <th>50</th>\n",
       "      <td>2.845608</td>\n",
       "    </tr>\n",
       "    <tr>\n",
       "      <th>100</th>\n",
       "      <td>2.064244</td>\n",
       "    </tr>\n",
       "  </tbody>\n",
       "</table>\n",
       "</div>"
      ],
      "text/plain": [
       "                   Median Radius\n",
       "Number of Embryos               \n",
       "10                      3.193340\n",
       "20                      2.933363\n",
       "50                      2.845608\n",
       "100                     2.064244"
      ]
     },
     "execution_count": 9,
     "metadata": {},
     "output_type": "execute_result"
    }
   ],
   "source": [
    "# median size of planets\n",
    "average_sizes = {}\n",
    "for num_embryos, mock in mocks.items():\n",
    "    average_sizes[num_embryos] = mock[\"R_planet\"].median()\n",
    "pd.DataFrame.from_dict(\n",
    "    average_sizes, orient=\"index\", columns=[\"Median Radius\"]\n",
    ").rename_axis(\"Number of Embryos\")"
   ]
  }
 ],
 "metadata": {
  "kernelspec": {
   "display_name": "plato",
   "language": "python",
   "name": "python3"
  },
  "language_info": {
   "codemirror_mode": {
    "name": "ipython",
    "version": 3
   },
   "file_extension": ".py",
   "mimetype": "text/x-python",
   "name": "python",
   "nbconvert_exporter": "python",
   "pygments_lexer": "ipython3",
   "version": "3.12.2"
  }
 },
 "nbformat": 4,
 "nbformat_minor": 2
}
