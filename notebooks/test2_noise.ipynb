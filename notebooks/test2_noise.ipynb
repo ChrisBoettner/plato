{
 "cells": [
  {
   "cell_type": "code",
   "execution_count": 151,
   "metadata": {},
   "outputs": [
    {
     "name": "stdout",
     "output_type": "stream",
     "text": [
      "The autoreload extension is already loaded. To reload it, use:\n",
      "  %reload_ext autoreload\n"
     ]
    }
   ],
   "source": [
    "%load_ext autoreload\n",
    "%autoreload 2"
   ]
  },
  {
   "cell_type": "code",
   "execution_count": 152,
   "metadata": {},
   "outputs": [],
   "source": [
    "from plato.instrument import NoiseModel\n",
    "import pandas as pd\n",
    "import matplotlib.pyplot as plt\n",
    "import numpy as np"
   ]
  },
  {
   "cell_type": "code",
   "execution_count": 153,
   "metadata": {},
   "outputs": [],
   "source": [
    "n_cameras = 22\n",
    "m = NoiseModel()"
   ]
  },
  {
   "cell_type": "code",
   "execution_count": 154,
   "metadata": {},
   "outputs": [],
   "source": [
    "def noise_to_flux(noise):\n",
    "    return 1 / (n_cameras * m.n_images * noise**2 * m.n_photoelectrons_ref)"
   ]
  },
  {
   "cell_type": "code",
   "execution_count": 155,
   "metadata": {},
   "outputs": [],
   "source": [
    "ref = pd.DataFrame(\n",
    "    {\n",
    "        \"mag\": [8, 9, 10, 11, 12, 13, 14, 15, 16],\n",
    "        \"noise\": np.array([10.3, 16.3, 26.2, 42.2, 68.9, 114.0, 190.1, 315.0, 513.7])\n",
    "        * 1e-6,\n",
    "    }\n",
    ")\n",
    "\n",
    "ref[\"flux\"] = noise_to_flux(ref[\"noise\"])"
   ]
  },
  {
   "cell_type": "code",
   "execution_count": 156,
   "metadata": {},
   "outputs": [
    {
     "data": {
      "text/plain": [
       "0     10.3\n",
       "1     16.3\n",
       "2     26.2\n",
       "3     42.2\n",
       "4     68.9\n",
       "5    114.0\n",
       "6    190.1\n",
       "7    315.0\n",
       "8    513.7\n",
       "Name: noise, dtype: float64"
      ]
     },
     "execution_count": 156,
     "metadata": {},
     "output_type": "execute_result"
    }
   ],
   "source": [
    "ref[\"noise\"] * 1e6"
   ]
  },
  {
   "cell_type": "code",
   "execution_count": 157,
   "metadata": {},
   "outputs": [
    {
     "data": {
      "text/plain": [
       "0      9.944732\n",
       "1     16.251166\n",
       "2     26.556814\n",
       "3     43.397772\n",
       "4     70.918395\n",
       "5    115.891172\n",
       "6    189.383358\n",
       "7    309.480486\n",
       "8    505.737000\n",
       "Name: mag, dtype: float64"
      ]
     },
     "execution_count": 157,
     "metadata": {},
     "output_type": "execute_result"
    }
   ],
   "source": [
    "m.photon_noise(ref[\"mag\"], 22) * 1e6"
   ]
  },
  {
   "cell_type": "code",
   "execution_count": 158,
   "metadata": {},
   "outputs": [],
   "source": [
    "def flux(x, A, B):\n",
    "    return 10**A * 10 ** (-0.4 * B * (x - 11))"
   ]
  },
  {
   "cell_type": "code",
   "execution_count": 159,
   "metadata": {},
   "outputs": [],
   "source": [
    "# fit relative deviation\n",
    "from scipy.optimize import minimize\n",
    "\n",
    "\n",
    "def relative_deviation(params):\n",
    "    A, B = params\n",
    "    return np.sum(\n",
    "        np.abs((flux(ref[\"mag\"], A, B)) - ref[\"flux\"]) ** 2 / ref[\"flux\"] ** 2\n",
    "    )\n",
    "\n",
    "\n",
    "res = minimize(relative_deviation, x0=[7, 1])"
   ]
  },
  {
   "cell_type": "code",
   "execution_count": 160,
   "metadata": {},
   "outputs": [
    {
     "data": {
      "text/plain": [
       "array([-0.03690695,  1.06675795])"
      ]
     },
     "execution_count": 160,
     "metadata": {},
     "output_type": "execute_result"
    }
   ],
   "source": [
    "res.x"
   ]
  },
  {
   "cell_type": "code",
   "execution_count": 161,
   "metadata": {},
   "outputs": [
    {
     "data": {
      "image/png": "[encoded data removed]",
      "text/plain": [
       "<Figure size 640x480 with 1 Axes>"
      ]
     },
     "metadata": {},
     "output_type": "display_data"
    }
   ],
   "source": [
    "plt.scatter(ref[\"mag\"], ref[\"flux\"])\n",
    "xline = np.linspace(3, 16, 100)\n",
    "plt.plot(xline, flux(xline, *res.x))\n",
    "plt.yscale(\"log\")"
   ]
  },
  {
   "cell_type": "code",
   "execution_count": 162,
   "metadata": {},
   "outputs": [
    {
     "data": {
      "text/plain": [
       "0      13.581695\n",
       "1      19.106699\n",
       "2      29.949760\n",
       "3      51.685473\n",
       "4      99.668480\n",
       "5     217.547369\n",
       "6     524.918663\n",
       "7    1341.757478\n",
       "8    3521.318852\n",
       "Name: mag, dtype: float64"
      ]
     },
     "execution_count": 162,
     "metadata": {},
     "output_type": "execute_result"
    }
   ],
   "source": [
    "m.calculate_NSR(ref[\"mag\"], n_cameras, stellar_variability=0) * 1e6"
   ]
  },
  {
   "cell_type": "code",
   "execution_count": 163,
   "metadata": {},
   "outputs": [],
   "source": [
    "A, B = res.x"
   ]
  },
  {
   "cell_type": "code",
   "execution_count": 164,
   "metadata": {},
   "outputs": [
    {
     "data": {
      "text/plain": [
       "0    4.203132\n",
       "1    2.303647\n",
       "2    5.506368\n",
       "3    8.225573\n",
       "4    8.413377\n",
       "5    6.135770\n",
       "6    2.287196\n",
       "7    0.439645\n",
       "8    0.000003\n",
       "dtype: float64"
      ]
     },
     "execution_count": 164,
     "metadata": {},
     "output_type": "execute_result"
    }
   ],
   "source": [
    "np.abs((flux(ref[\"mag\"], A, B)) - ref[\"flux\"]) / ref[\"flux\"] * 1e2"
   ]
  },
  {
   "cell_type": "code",
   "execution_count": null,
   "metadata": {},
   "outputs": [],
   "source": []
  }
 ],
 "metadata": {
  "kernelspec": {
   "display_name": "plato",
   "language": "python",
   "name": "python3"
  },
  "language_info": {
   "codemirror_mode": {
    "name": "ipython",
    "version": 3
   },
   "file_extension": ".py",
   "mimetype": "text/x-python",
   "name": "python",
   "nbconvert_exporter": "python",
   "pygments_lexer": "ipython3",
   "version": "3.12.2"
  }
 },
 "nbformat": 4,
 "nbformat_minor": 2
}
