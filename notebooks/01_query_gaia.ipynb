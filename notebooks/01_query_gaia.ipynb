{
 "cells": [
  {
   "cell_type": "code",
   "execution_count": 1,
   "metadata": {},
   "outputs": [
    {
     "name": "stdout",
     "output_type": "stream",
     "text": [
      "\u001b[91mA new version of galpy (1.10.0) is available, please upgrade using pip/conda/... to get the latest features and bug fixes!\u001b[0m\n"
     ]
    }
   ],
   "source": [
    "import logging\n",
    "from astropy.table import Table, join\n",
    "\n",
    "from plato.stars import gaia\n",
    "from plato.utils import get_abspath\n",
    "\n",
    "logging.getLogger(\"astroquery\").setLevel(logging.WARNING)"
   ]
  },
  {
   "cell_type": "code",
   "execution_count": 2,
   "metadata": {},
   "outputs": [],
   "source": [
    "# load gaia IDs (DR2) from asPIC catalog\n",
    "asPIC_ids = Table.read(get_abspath() + \"data/external/asPIC_1.1.fits\")[\"sourceId\"][\n",
    "    :, 0\n",
    "].tolist()"
   ]
  },
  {
   "cell_type": "code",
   "execution_count": 3,
   "metadata": {},
   "outputs": [
    {
     "name": "stderr",
     "output_type": "stream",
     "text": [
      "100%|██████████| 54/54 [08:23<00:00,  9.32s/it]\n"
     ]
    }
   ],
   "source": [
    "# query the dr2_d3_crossmatch table to get the dr3 ids for the asPIC (dr2) sources\n",
    "def dr2_dr3_crossmatch_query(id_list):\n",
    "    query = f\"\"\"\n",
    "    SELECT\n",
    "        dr2_source_id,\n",
    "        dr3_source_id,\n",
    "        angular_distance,\n",
    "        magnitude_difference\n",
    "    FROM\n",
    "        gaiadr3.dr2_neighbourhood\n",
    "    WHERE\n",
    "        dr2_source_id IN ({id_list})\n",
    "  \"\"\"\n",
    "    return query\n",
    "\n",
    "\n",
    "crossmatch_catalogue = gaia.query(dr2_dr3_crossmatch_query, asPIC_ids).to_pandas()\n",
    "\n",
    "# select the closest match (in terms of angular distance) for each asPIC source\n",
    "crossmatch_catalogue = crossmatch_catalogue.sort_values(\n",
    "    by=[\"dr2_source_id\", \"angular_distance\", \"magnitude_difference\"]\n",
    ")\n",
    "crossmatch_catalogue = crossmatch_catalogue.drop_duplicates(\n",
    "    subset=\"dr2_source_id\", keep=\"first\"\n",
    ").rename(columns={\"dr3_source_id\": \"SOURCE_ID\"})\n",
    "\n",
    "# turn dataframe into back into astropy table\n",
    "crossmatch_catalogue = Table.from_pandas(\n",
    "    crossmatch_catalogue[[\"dr2_source_id\", \"SOURCE_ID\"]]\n",
    ")"
   ]
  },
  {
   "cell_type": "code",
   "execution_count": 4,
   "metadata": {},
   "outputs": [
    {
     "name": "stderr",
     "output_type": "stream",
     "text": [
      "100%|██████████| 54/54 [11:25<00:00, 12.70s/it]\n"
     ]
    }
   ],
   "source": [
    "# create query to get relevant columns from Gaia DR3 gaia_source and astrophysical_parameters tables\n",
    "def data_query(id_list):\n",
    "    query = f\"\"\"\n",
    "    SELECT\n",
    "        gaiadr3.gaia_source.source_id,\n",
    "        gaiadr3.gaia_source.parallax,\n",
    "        gaiadr3.gaia_source.parallax_error,\n",
    "        gaiadr3.gaia_source.ra,\n",
    "        gaiadr3.gaia_source.ra_error,\n",
    "        gaiadr3.gaia_source.dec,\n",
    "        gaiadr3.gaia_source.dec_error,\n",
    "        gaiadr3.gaia_source.pmra,\n",
    "        gaiadr3.gaia_source.pmra_error,\n",
    "        gaiadr3.gaia_source.pmdec,\n",
    "        gaiadr3.gaia_source.pmdec_error,\n",
    "        gaiadr3.gaia_source.radial_velocity,\n",
    "        gaiadr3.gaia_source.radial_velocity_error,\n",
    "        astrophysical_parameters.mh_gspphot,\n",
    "        astrophysical_parameters.mh_gspphot_lower,\n",
    "        astrophysical_parameters.mh_gspphot_upper,\n",
    "        astrophysical_parameters.mh_gspspec,\n",
    "        astrophysical_parameters.mh_gspspec_lower,\n",
    "        astrophysical_parameters.mh_gspspec_upper,\n",
    "        astrophysical_parameters.alphafe_gspspec,\n",
    "        astrophysical_parameters.alphafe_gspspec_lower,\n",
    "        astrophysical_parameters.alphafe_gspspec_upper,\n",
    "        astrophysical_parameters.logg_gspphot,\n",
    "        astrophysical_parameters.logg_gspphot_lower,\n",
    "        astrophysical_parameters.logg_gspphot_upper,\n",
    "        astrophysical_parameters.logg_gspspec,\n",
    "        astrophysical_parameters.logg_gspspec_lower,\n",
    "        astrophysical_parameters.logg_gspspec_upper,\n",
    "        astrophysical_parameters.flags_gspspec\n",
    "    FROM\n",
    "        gaiadr3.gaia_source\n",
    "    LEFT JOIN\n",
    "        gaiadr3.astrophysical_parameters\n",
    "    ON\n",
    "        gaiadr3.gaia_source.source_id = gaiadr3.astrophysical_parameters.source_id\n",
    "    WHERE\n",
    "        gaiadr3.gaia_source.source_id IN ({id_list});\n",
    "    \"\"\"\n",
    "    return query\n",
    "\n",
    "\n",
    "targets = gaia.query(data_query, crossmatch_catalogue[\"SOURCE_ID\"].tolist())  # type: ignore"
   ]
  },
  {
   "cell_type": "code",
   "execution_count": 5,
   "metadata": {},
   "outputs": [],
   "source": [
    "# add DR 2 source IDs back to the table\n",
    "targets = join(targets, crossmatch_catalogue, keys=\"SOURCE_ID\", join_type=\"left\")"
   ]
  },
  {
   "cell_type": "code",
   "execution_count": 6,
   "metadata": {},
   "outputs": [],
   "source": [
    "targets[\"flags_gspspec\"] = targets[\"flags_gspspec\"].astype(str)"
   ]
  },
  {
   "cell_type": "code",
   "execution_count": 7,
   "metadata": {},
   "outputs": [
    {
     "name": "stderr",
     "output_type": "stream",
     "text": [
      "WARNING: The unit 'dex' could not be saved in native FITS format and cannot be recovered in reading. It can roundtrip within astropy by using QTable both to write and read back, though one has to enable the unit before reading. [astropy.io.fits.convenience]\n",
      "WARNING: UnitsWarning: 'log(cm.s**-2)' did not parse as fits unit: 'log' is not a recognized function If this is meant to be a custom unit, define it with 'u.def_unit'. To have it recognized inside a file reader or other code, enable it with 'u.add_enabled_units'. For details, see https://docs.astropy.org/en/latest/units/combining_and_defining.html [astropy.units.core]\n"
     ]
    }
   ],
   "source": [
    "# save\n",
    "targets.write(\n",
    "    get_abspath() + \"data/raw/plato_targets.fits\", format=\"fits\", overwrite=True\n",
    ")"
   ]
  }
 ],
 "metadata": {
  "kernelspec": {
   "display_name": "plato",
   "language": "python",
   "name": "python3"
  },
  "language_info": {
   "codemirror_mode": {
    "name": "ipython",
    "version": 3
   },
   "file_extension": ".py",
   "mimetype": "text/x-python",
   "name": "python",
   "nbconvert_exporter": "python",
   "pygments_lexer": "ipython3",
   "version": "3.12.2"
  }
 },
 "nbformat": 4,
 "nbformat_minor": 2
}
